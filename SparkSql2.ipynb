{
 "cells": [
  {
   "cell_type": "code",
   "execution_count": 1,
   "id": "c7bb1ad4-03ae-4c98-b837-4134564560a9",
   "metadata": {},
   "outputs": [],
   "source": [
    "import findspark\n",
    "findspark.init()\n",
    "findspark.find()\n",
    "import pyspark"
   ]
  },
  {
   "cell_type": "code",
   "execution_count": 2,
   "id": "cce9d559-eea0-4c66-98b4-98ca0c5bda22",
   "metadata": {},
   "outputs": [],
   "source": [
    "from pyspark.sql import SparkSession\n",
    "from pyspark.sql.functions import col, max, min, sum, mean\n",
    "from pyspark.sql.types import StructType, StructField, IntegerType, StringType, DoubleType"
   ]
  },
  {
   "cell_type": "code",
   "execution_count": null,
   "id": "e510f605-b395-46f2-bee3-31cdc83c30c1",
   "metadata": {},
   "outputs": [],
   "source": [
    "# import os\n",
    "\n",
    "# os.environ[\"HADOOP_HOME\"] = \"C:\\\\spark-3.5.6-bin-hadoop3\"\n",
    "# os.environ[\"PATH\"] += os.pathsep + \"C:\\\\spark-3.5.6-bin-hadoop3\\\\bin\"\n"
   ]
  },
  {
   "cell_type": "code",
   "execution_count": 3,
   "id": "89a6019b-ae84-42d9-aa34-87fd302cad26",
   "metadata": {},
   "outputs": [],
   "source": [
    "spark = SparkSession.builder.appName(\"ScalaToPySpark\").getOrCreate()\n",
    "sc = spark.sparkContext"
   ]
  },
  {
   "cell_type": "code",
   "execution_count": 4,
   "id": "5d10ed92-47be-4fc7-b6d1-b80f65bb9e7f",
   "metadata": {},
   "outputs": [],
   "source": [
    "file = spark.read.csv(\"empData.csv\")"
   ]
  },
  {
   "cell_type": "code",
   "execution_count": 5,
   "id": "ad06e7fe-8a99-4918-a924-d4cc5ceb8a6b",
   "metadata": {},
   "outputs": [
    {
     "data": {
      "text/plain": [
       "['_c0', '_c1', '_c2']"
      ]
     },
     "execution_count": 5,
     "metadata": {},
     "output_type": "execute_result"
    }
   ],
   "source": [
    "file.columns"
   ]
  },
  {
   "cell_type": "code",
   "execution_count": 6,
   "id": "dff4678d-787d-46d2-921f-78d6d55ecf23",
   "metadata": {},
   "outputs": [
    {
     "name": "stdout",
     "output_type": "stream",
     "text": [
      "+----+-------+-----+\n",
      "| _c0|    _c1|  _c2|\n",
      "+----+-------+-----+\n",
      "|1000|  Gopal|12000|\n",
      "|1001|Krishna|14000|\n",
      "|1002|   Ravi|16000|\n",
      "|1002|  Ramya|24000|\n",
      "|1003| Rakesh|34000|\n",
      "|1004| Rajesh|22000|\n",
      "|1005|Mounika|24000|\n",
      "|1006| Sravya|26000|\n",
      "|1007|   Siya|24000|\n",
      "|1008| Bhavya|30000|\n",
      "|1009|Trinath|34000|\n",
      "+----+-------+-----+\n",
      "\n"
     ]
    }
   ],
   "source": [
    "file.show()"
   ]
  },
  {
   "cell_type": "code",
   "execution_count": 7,
   "id": "eb4b37a8-c629-419b-aba0-35b647248408",
   "metadata": {},
   "outputs": [
    {
     "name": "stdout",
     "output_type": "stream",
     "text": [
      "root\n",
      " |-- _c0: string (nullable = true)\n",
      " |-- _c1: string (nullable = true)\n",
      " |-- _c2: string (nullable = true)\n",
      "\n"
     ]
    }
   ],
   "source": [
    "file.printSchema()"
   ]
  },
  {
   "cell_type": "code",
   "execution_count": 8,
   "id": "a8c5f1c0-c77c-4408-b19c-a634b43926fe",
   "metadata": {
    "scrolled": true
   },
   "outputs": [],
   "source": [
    "file.write.mode(\"overwrite\").json(\"datajson\")"
   ]
  },
  {
   "cell_type": "code",
   "execution_count": 9,
   "id": "4a0ed948-caf0-48c0-b6df-5cd5b3485723",
   "metadata": {},
   "outputs": [],
   "source": [
    "file.write.mode(\"overwrite\").csv(\"datacsv\")"
   ]
  },
  {
   "cell_type": "code",
   "execution_count": 10,
   "id": "8779b8e5-bc2e-4e49-9c8a-e948637dfe5a",
   "metadata": {},
   "outputs": [],
   "source": [
    "file.write.mode(\"overwrite\").orc(\"dataorc\")"
   ]
  },
  {
   "cell_type": "code",
   "execution_count": 11,
   "id": "daa8f2dc-4087-4632-85f3-c7d25df1988d",
   "metadata": {},
   "outputs": [],
   "source": [
    "file.createOrReplaceTempView(\"filetab\")"
   ]
  },
  {
   "cell_type": "code",
   "execution_count": 12,
   "id": "abbc2cba-424e-467a-83c7-26f30d255496",
   "metadata": {},
   "outputs": [
    {
     "name": "stdout",
     "output_type": "stream",
     "text": [
      "+---------+---------+-----------+\n",
      "|namespace|tableName|isTemporary|\n",
      "+---------+---------+-----------+\n",
      "|         |  filetab|       true|\n",
      "+---------+---------+-----------+\n",
      "\n"
     ]
    }
   ],
   "source": [
    "spark.sql(\"show tables\").show()"
   ]
  },
  {
   "cell_type": "code",
   "execution_count": 13,
   "id": "7a618f1b-6aa3-4785-9681-89cfcab8f06d",
   "metadata": {},
   "outputs": [],
   "source": [
    "newfile = spark.sql(\"SELECT * FROM filetab where _c2 > 24000\")"
   ]
  },
  {
   "cell_type": "code",
   "execution_count": 14,
   "id": "21fa376e-5d98-46c2-95a8-abaca0aa8519",
   "metadata": {},
   "outputs": [
    {
     "name": "stdout",
     "output_type": "stream",
     "text": [
      "+----+-------+-----+\n",
      "| _c0|    _c1|  _c2|\n",
      "+----+-------+-----+\n",
      "|1000|  Gopal|12000|\n",
      "|1001|Krishna|14000|\n",
      "|1002|   Ravi|16000|\n",
      "|1002|  Ramya|24000|\n",
      "|1003| Rakesh|34000|\n",
      "|1004| Rajesh|22000|\n",
      "|1005|Mounika|24000|\n",
      "|1006| Sravya|26000|\n",
      "|1007|   Siya|24000|\n",
      "|1008| Bhavya|30000|\n",
      "|1009|Trinath|34000|\n",
      "+----+-------+-----+\n",
      "\n"
     ]
    }
   ],
   "source": [
    "file.show()"
   ]
  },
  {
   "cell_type": "code",
   "execution_count": 15,
   "id": "bf28cce5-bd07-4262-accf-c2655b721f25",
   "metadata": {},
   "outputs": [
    {
     "name": "stdout",
     "output_type": "stream",
     "text": [
      "+----+-------+-----+\n",
      "| _c0|    _c1|  _c2|\n",
      "+----+-------+-----+\n",
      "|1003| Rakesh|34000|\n",
      "|1006| Sravya|26000|\n",
      "|1008| Bhavya|30000|\n",
      "|1009|Trinath|34000|\n",
      "+----+-------+-----+\n",
      "\n"
     ]
    }
   ],
   "source": [
    "newfile.show()"
   ]
  },
  {
   "cell_type": "code",
   "execution_count": 16,
   "id": "1c316fea-0917-4c0a-a994-2162c4516cfd",
   "metadata": {},
   "outputs": [],
   "source": [
    "newfile.write.mode(\"append\").csv(\"empData\")"
   ]
  },
  {
   "cell_type": "code",
   "execution_count": 17,
   "id": "5380a89a-6a94-45d0-b010-59c1b62bed7a",
   "metadata": {},
   "outputs": [],
   "source": [
    "newfile.write.mode(\"overwrite\").csv(\"empData\")"
   ]
  },
  {
   "cell_type": "code",
   "execution_count": 18,
   "id": "a2981b31-822a-4949-b77a-9713b2a5f3ad",
   "metadata": {},
   "outputs": [],
   "source": [
    "jfile = spark.read.json(\"inputData.json\")"
   ]
  },
  {
   "cell_type": "code",
   "execution_count": 19,
   "id": "047bba57-8406-453d-983e-b4f84c97025e",
   "metadata": {},
   "outputs": [
    {
     "name": "stdout",
     "output_type": "stream",
     "text": [
      "+-----------+----+--------------+-------------+--------+------------+\n",
      "|    Address| Age|          Desg|        State|YrsOfExp|        name|\n",
      "+-----------+----+--------------+-------------+--------+------------+\n",
      "|  Hyderabad|NULL|           STA|    Telangana|    12.5|       Gopal|\n",
      "|  Bangalore|   6|          NULL|    Karnataka|    NULL|     Mounika|\n",
      "|    Chennai|  22|   Sw Engineer|    TamilNadu|     1.2|       Ramya|\n",
      "|  Hyderabad|NULL|            TA|    Telangana|    12.5|      Sekhar|\n",
      "|  Bangalore|  12|          NULL|    Karnataka|    NULL|      Reshma|\n",
      "|       Pune|  22|   Sw Engineer|   Maharastra|     1.2|       Ramya|\n",
      "|  Hyderabad|NULL|Senior Analyst|    Telangana|     9.5| Ravichandra|\n",
      "|  Bangalore|  18|          NULL|    Karnataka|    NULL|     Meghana|\n",
      "|      Delhi|  22|   Sw Engineer|        Delhi|     1.2|      Ravali|\n",
      "|  Hyderabad|NULL|           STA|    Telangana|    12.5| MahaLakshmi|\n",
      "|  Bangalore|   6|          NULL|    Karnataka|    NULL|SouravMishra|\n",
      "|     Indore|  22|   Sw Engineer|MadhyaPradesh|     1.2|       Ramya|\n",
      "|  Hyderabad|NULL|           STA|    Telangana|    12.5|       Gopal|\n",
      "|  Bangalore|  34|          NULL|    Karnataka|    NULL|     Mounika|\n",
      "|    Chennai|  22|   Sw Engineer|AndhraPradesh|     1.2|       Ramya|\n",
      "|  Hyderabad|NULL|           STA|    Telangana|    12.5|       Gopal|\n",
      "|  Hyderabad|  40|          NULL|    Telangana|    NULL|     Raghava|\n",
      "|    Chennai|  32|          NULL|    Telangana|    NULL|       Raaji|\n",
      "|   Warangal|NULL|           STA|    Telangana|    12.5|       Gopal|\n",
      "|Tiruvendram|  38|          NULL|       Kerala|    NULL|   Mahildhar|\n",
      "+-----------+----+--------------+-------------+--------+------------+\n",
      "only showing top 20 rows\n",
      "\n"
     ]
    }
   ],
   "source": [
    "jfile.show()"
   ]
  },
  {
   "cell_type": "code",
   "execution_count": 20,
   "id": "d104e4d1-6fc7-4ec7-a285-bcc1cbe4e4a6",
   "metadata": {},
   "outputs": [
    {
     "data": {
      "text/plain": [
       "['Address', 'Age', 'Desg', 'State', 'YrsOfExp', 'name']"
      ]
     },
     "execution_count": 20,
     "metadata": {},
     "output_type": "execute_result"
    }
   ],
   "source": [
    "jfile.columns"
   ]
  },
  {
   "cell_type": "code",
   "execution_count": 21,
   "id": "e8b9158a-933f-4a09-b19c-20d48c5e7bfd",
   "metadata": {},
   "outputs": [
    {
     "name": "stdout",
     "output_type": "stream",
     "text": [
      "root\n",
      " |-- Address: string (nullable = true)\n",
      " |-- Age: long (nullable = true)\n",
      " |-- Desg: string (nullable = true)\n",
      " |-- State: string (nullable = true)\n",
      " |-- YrsOfExp: double (nullable = true)\n",
      " |-- name: string (nullable = true)\n",
      "\n"
     ]
    }
   ],
   "source": [
    "jfile.printSchema()"
   ]
  },
  {
   "cell_type": "code",
   "execution_count": 22,
   "id": "dbe022f3-c45d-4178-9b7f-cadc5abcc170",
   "metadata": {},
   "outputs": [],
   "source": [
    "jsondf = spark.read.json(\"youtubeData.json\")"
   ]
  },
  {
   "cell_type": "code",
   "execution_count": null,
   "id": "d0f37ef4-2953-411b-99f0-1d9bf1bf2c66",
   "metadata": {},
   "outputs": [],
   "source": [
    "# jsondf.show() # Error comes because this json document is not properly formatted"
   ]
  },
  {
   "cell_type": "code",
   "execution_count": 23,
   "id": "21fca978-e80c-42c2-8c1e-b24d17fc6234",
   "metadata": {},
   "outputs": [],
   "source": [
    "orcdf = spark.read.orc(\"C:\\\\Users\\\\aksha\\\\Pyspark\\\\dataorc\\\\part-00000-8ec4fa97-d92a-404e-a605-d18683091325-c000.snappy.orc\")"
   ]
  },
  {
   "cell_type": "code",
   "execution_count": 24,
   "id": "2088635a-ab8f-4b06-81f0-3e93c3d12e4a",
   "metadata": {},
   "outputs": [
    {
     "data": {
      "text/plain": [
       "['_c0', '_c1', '_c2']"
      ]
     },
     "execution_count": 24,
     "metadata": {},
     "output_type": "execute_result"
    }
   ],
   "source": [
    "orcdf.columns"
   ]
  },
  {
   "cell_type": "code",
   "execution_count": 25,
   "id": "42f9aab7-8844-409b-bb4b-0e285a893d33",
   "metadata": {},
   "outputs": [
    {
     "name": "stdout",
     "output_type": "stream",
     "text": [
      "+----+-------+-----+\n",
      "| _c0|    _c1|  _c2|\n",
      "+----+-------+-----+\n",
      "|1000|  Gopal|12000|\n",
      "|1001|Krishna|14000|\n",
      "|1002|   Ravi|16000|\n",
      "|1002|  Ramya|24000|\n",
      "|1003| Rakesh|34000|\n",
      "|1004| Rajesh|22000|\n",
      "|1005|Mounika|24000|\n",
      "|1006| Sravya|26000|\n",
      "|1007|   Siya|24000|\n",
      "|1008| Bhavya|30000|\n",
      "|1009|Trinath|34000|\n",
      "+----+-------+-----+\n",
      "\n"
     ]
    }
   ],
   "source": [
    "orcdf.show()"
   ]
  },
  {
   "cell_type": "code",
   "execution_count": 26,
   "id": "2095cc6a-e89c-420f-a9d6-ad7d9efc8a2d",
   "metadata": {},
   "outputs": [
    {
     "name": "stdout",
     "output_type": "stream",
     "text": [
      "root\n",
      " |-- _c0: string (nullable = true)\n",
      " |-- _c1: string (nullable = true)\n",
      " |-- _c2: string (nullable = true)\n",
      "\n"
     ]
    }
   ],
   "source": [
    "orcdf.printSchema()"
   ]
  },
  {
   "cell_type": "code",
   "execution_count": 27,
   "id": "3ce0fc0e-ae1a-42ec-b11e-0c6e4f673352",
   "metadata": {},
   "outputs": [],
   "source": [
    "parquetdf = spark.read.parquet(\"C:/Users/aksha/Pyspark/dataparquet\")"
   ]
  },
  {
   "cell_type": "code",
   "execution_count": 28,
   "id": "79c3117b-e02d-441c-8ed1-c25abf2ba41f",
   "metadata": {},
   "outputs": [
    {
     "name": "stdout",
     "output_type": "stream",
     "text": [
      "+----+-------+-----+\n",
      "| _c0|    _c1|  _c2|\n",
      "+----+-------+-----+\n",
      "|1001|Krishna|14000|\n",
      "|1005|Mounika|24000|\n",
      "|1009|Trinath|34000|\n",
      "|1003| Rakesh|34000|\n",
      "|1004| Rajesh|22000|\n",
      "|1006| Sravya|26000|\n",
      "|1008| Bhavya|30000|\n",
      "|1002|  Ramya|24000|\n",
      "|1000|  Gopal|12000|\n",
      "|1002|   Ravi|16000|\n",
      "|1007|   Siya|24000|\n",
      "+----+-------+-----+\n",
      "\n"
     ]
    }
   ],
   "source": [
    "parquetdf.show()"
   ]
  },
  {
   "cell_type": "code",
   "execution_count": 29,
   "id": "ada6b3a1-d7c1-49a4-bded-fc4b8f360e48",
   "metadata": {},
   "outputs": [],
   "source": [
    "file2 = spark.read.csv(\"empData.csv\")"
   ]
  },
  {
   "cell_type": "code",
   "execution_count": 30,
   "id": "a154e868-2afb-4f35-be50-4796439aa946",
   "metadata": {},
   "outputs": [
    {
     "data": {
      "text/plain": [
       "['_c0', '_c1', '_c2']"
      ]
     },
     "execution_count": 30,
     "metadata": {},
     "output_type": "execute_result"
    }
   ],
   "source": [
    "file2.columns"
   ]
  },
  {
   "cell_type": "code",
   "execution_count": 31,
   "id": "e0a7b353-2828-48ae-88a9-45d43daee1ae",
   "metadata": {},
   "outputs": [
    {
     "name": "stdout",
     "output_type": "stream",
     "text": [
      "+----+-------+\n",
      "| _c0|    _c1|\n",
      "+----+-------+\n",
      "|1000|  Gopal|\n",
      "|1001|Krishna|\n",
      "|1002|   Ravi|\n",
      "|1002|  Ramya|\n",
      "|1003| Rakesh|\n",
      "|1004| Rajesh|\n",
      "|1005|Mounika|\n",
      "|1006| Sravya|\n",
      "|1007|   Siya|\n",
      "|1008| Bhavya|\n",
      "|1009|Trinath|\n",
      "+----+-------+\n",
      "\n"
     ]
    }
   ],
   "source": [
    "file2.select('_c0','_c1').show()"
   ]
  },
  {
   "cell_type": "code",
   "execution_count": 32,
   "id": "0aed9a8f-c7f4-447d-a19a-8eee2ee5e3a2",
   "metadata": {},
   "outputs": [
    {
     "name": "stdout",
     "output_type": "stream",
     "text": [
      "+----+-------+\n",
      "| _c0|    _c1|\n",
      "+----+-------+\n",
      "|1000|  Gopal|\n",
      "|1001|Krishna|\n",
      "|1002|   Ravi|\n",
      "|1002|  Ramya|\n",
      "|1003| Rakesh|\n",
      "|1004| Rajesh|\n",
      "|1005|Mounika|\n",
      "|1006| Sravya|\n",
      "|1007|   Siya|\n",
      "|1008| Bhavya|\n",
      "|1009|Trinath|\n",
      "+----+-------+\n",
      "\n"
     ]
    }
   ],
   "source": [
    "file2[['_c0', '_c1']].show()"
   ]
  },
  {
   "cell_type": "code",
   "execution_count": 33,
   "id": "8ab6d94d-52ca-430c-9de8-e42aea09bee4",
   "metadata": {},
   "outputs": [
    {
     "name": "stdout",
     "output_type": "stream",
     "text": [
      "+----+-------+\n",
      "| _c0|    _c1|\n",
      "+----+-------+\n",
      "|1000|  Gopal|\n",
      "|1001|Krishna|\n",
      "|1002|   Ravi|\n",
      "|1002|  Ramya|\n",
      "|1003| Rakesh|\n",
      "|1004| Rajesh|\n",
      "|1005|Mounika|\n",
      "|1006| Sravya|\n",
      "|1007|   Siya|\n",
      "|1008| Bhavya|\n",
      "|1009|Trinath|\n",
      "+----+-------+\n",
      "\n"
     ]
    }
   ],
   "source": [
    "# 2️⃣ Using column objects with df[\"colName\"]\n",
    "file2.select(file2[\"_c0\"], file2[\"_c1\"]).show()"
   ]
  },
  {
   "cell_type": "code",
   "execution_count": 34,
   "id": "edd1e7e7-87c3-4874-8c46-2d462cbfcb0a",
   "metadata": {},
   "outputs": [
    {
     "name": "stdout",
     "output_type": "stream",
     "text": [
      "+----+-------+\n",
      "| _c0|    _c1|\n",
      "+----+-------+\n",
      "|1000|  Gopal|\n",
      "|1001|Krishna|\n",
      "|1002|   Ravi|\n",
      "|1002|  Ramya|\n",
      "|1003| Rakesh|\n",
      "|1004| Rajesh|\n",
      "|1005|Mounika|\n",
      "|1006| Sravya|\n",
      "|1007|   Siya|\n",
      "|1008| Bhavya|\n",
      "|1009|Trinath|\n",
      "+----+-------+\n",
      "\n"
     ]
    }
   ],
   "source": [
    "# 3️⃣ Using col() from functions\n",
    "file2.select(col(\"_c0\"), col(\"_c1\")).show()"
   ]
  },
  {
   "cell_type": "code",
   "execution_count": 35,
   "id": "f35e8070-7e2c-48da-aa8b-09b0e2a6857f",
   "metadata": {},
   "outputs": [
    {
     "name": "stdout",
     "output_type": "stream",
     "text": [
      "+----+-------+\n",
      "|  id|   name|\n",
      "+----+-------+\n",
      "|1000|  Gopal|\n",
      "|1001|Krishna|\n",
      "|1002|   Ravi|\n",
      "|1002|  Ramya|\n",
      "|1003| Rakesh|\n",
      "|1004| Rajesh|\n",
      "|1005|Mounika|\n",
      "|1006| Sravya|\n",
      "|1007|   Siya|\n",
      "|1008| Bhavya|\n",
      "|1009|Trinath|\n",
      "+----+-------+\n",
      "\n"
     ]
    }
   ],
   "source": [
    "file2.selectExpr(\"_c0 as id\", \"_c1 as name\").show() # using selectExpr can rename coulumns"
   ]
  },
  {
   "cell_type": "code",
   "execution_count": 36,
   "id": "90ee052f-bcf6-4a28-bd43-b91664c46056",
   "metadata": {},
   "outputs": [],
   "source": [
    "csvdf = file2.selectExpr(\"_c0 as Id\", \"_c1 as Name\",\"_c2 as Salary\")"
   ]
  },
  {
   "cell_type": "code",
   "execution_count": 37,
   "id": "1cfe64d0-af29-4d6c-bae6-d22d13b4d64d",
   "metadata": {},
   "outputs": [
    {
     "name": "stdout",
     "output_type": "stream",
     "text": [
      "+----+-------+------+\n",
      "|  Id|   Name|Salary|\n",
      "+----+-------+------+\n",
      "|1000|  Gopal| 12000|\n",
      "|1001|Krishna| 14000|\n",
      "|1002|   Ravi| 16000|\n",
      "|1002|  Ramya| 24000|\n",
      "|1003| Rakesh| 34000|\n",
      "|1004| Rajesh| 22000|\n",
      "|1005|Mounika| 24000|\n",
      "|1006| Sravya| 26000|\n",
      "|1007|   Siya| 24000|\n",
      "|1008| Bhavya| 30000|\n",
      "|1009|Trinath| 34000|\n",
      "+----+-------+------+\n",
      "\n"
     ]
    }
   ],
   "source": [
    "csvdf.show()"
   ]
  },
  {
   "cell_type": "code",
   "execution_count": 38,
   "id": "2e8ca2f2-e76e-442f-8bf8-d3355f013f0a",
   "metadata": {},
   "outputs": [
    {
     "name": "stdout",
     "output_type": "stream",
     "text": [
      "+----+-------+------+\n",
      "|  Id|   Name|Salary|\n",
      "+----+-------+------+\n",
      "|1002|  Ramya| 24000|\n",
      "|1003| Rakesh| 34000|\n",
      "|1005|Mounika| 24000|\n",
      "|1006| Sravya| 26000|\n",
      "|1007|   Siya| 24000|\n",
      "|1008| Bhavya| 30000|\n",
      "|1009|Trinath| 34000|\n",
      "+----+-------+------+\n",
      "\n"
     ]
    }
   ],
   "source": [
    "csvdf.where(\"Salary > 22000\").show()"
   ]
  },
  {
   "cell_type": "code",
   "execution_count": 39,
   "id": "ba81e501-ed72-4295-bfa9-fb27c223a71f",
   "metadata": {},
   "outputs": [
    {
     "name": "stdout",
     "output_type": "stream",
     "text": [
      "+----+-------+------+\n",
      "|  Id|   Name|Salary|\n",
      "+----+-------+------+\n",
      "|1002|  Ramya| 24000|\n",
      "|1003| Rakesh| 34000|\n",
      "|1005|Mounika| 24000|\n",
      "|1006| Sravya| 26000|\n",
      "|1007|   Siya| 24000|\n",
      "|1008| Bhavya| 30000|\n",
      "|1009|Trinath| 34000|\n",
      "+----+-------+------+\n",
      "\n"
     ]
    }
   ],
   "source": [
    "csvdf.filter(\"Salary > 22000\").show()"
   ]
  },
  {
   "cell_type": "code",
   "execution_count": 40,
   "id": "b43a7f4f-9328-4a88-aae9-f7f3c08a36c1",
   "metadata": {},
   "outputs": [
    {
     "name": "stdout",
     "output_type": "stream",
     "text": [
      "+----+-------+------+\n",
      "|  Id|   Name|Salary|\n",
      "+----+-------+------+\n",
      "|1002|  Ramya| 24000|\n",
      "|1005|Mounika| 24000|\n",
      "|1006| Sravya| 26000|\n",
      "|1007|   Siya| 24000|\n",
      "+----+-------+------+\n",
      "\n"
     ]
    }
   ],
   "source": [
    "csvdf.filter(\"Salary > 22000 and Salary <30000\").show()"
   ]
  },
  {
   "cell_type": "code",
   "execution_count": 41,
   "id": "7ba80cd3-1ade-4f9c-bcdd-ce6a0aad2c72",
   "metadata": {},
   "outputs": [
    {
     "name": "stdout",
     "output_type": "stream",
     "text": [
      "+----+-------+------+\n",
      "|  Id|   Name|Salary|\n",
      "+----+-------+------+\n",
      "|1000|  Gopal| 12000|\n",
      "|1001|Krishna| 14000|\n",
      "|1002|   Ravi| 16000|\n",
      "|1002|  Ramya| 24000|\n",
      "|1003| Rakesh| 34000|\n",
      "|1004| Rajesh| 22000|\n",
      "|1005|Mounika| 24000|\n",
      "|1006| Sravya| 26000|\n",
      "|1007|   Siya| 24000|\n",
      "|1008| Bhavya| 30000|\n",
      "|1009|Trinath| 34000|\n",
      "+----+-------+------+\n",
      "\n"
     ]
    }
   ],
   "source": [
    "csvdf.filter(\"Salary > 22000 or Salary <30000\").show()"
   ]
  },
  {
   "cell_type": "code",
   "execution_count": 42,
   "id": "ed1039c9-cce9-4f59-a60a-c021d697f2a3",
   "metadata": {},
   "outputs": [
    {
     "name": "stdout",
     "output_type": "stream",
     "text": [
      "+----+-------+------+\n",
      "|  Id|   Name|Salary|\n",
      "+----+-------+------+\n",
      "|1008| Bhavya| 30000|\n",
      "|1000|  Gopal| 12000|\n",
      "|1001|Krishna| 14000|\n",
      "|1005|Mounika| 24000|\n",
      "|1004| Rajesh| 22000|\n",
      "|1003| Rakesh| 34000|\n",
      "|1002|  Ramya| 24000|\n",
      "|1002|   Ravi| 16000|\n",
      "|1007|   Siya| 24000|\n",
      "|1006| Sravya| 26000|\n",
      "|1009|Trinath| 34000|\n",
      "+----+-------+------+\n",
      "\n"
     ]
    }
   ],
   "source": [
    "csvdf.orderBy(\"Name\").show()"
   ]
  },
  {
   "cell_type": "code",
   "execution_count": 43,
   "id": "2f1e5b6d-5a56-437b-addb-b6a9533d3f19",
   "metadata": {},
   "outputs": [
    {
     "name": "stdout",
     "output_type": "stream",
     "text": [
      "+----+-------+------+\n",
      "|  Id|   Name|Salary|\n",
      "+----+-------+------+\n",
      "|1009|Trinath| 34000|\n",
      "|1006| Sravya| 26000|\n",
      "|1007|   Siya| 24000|\n",
      "|1002|   Ravi| 16000|\n",
      "|1002|  Ramya| 24000|\n",
      "|1003| Rakesh| 34000|\n",
      "|1004| Rajesh| 22000|\n",
      "|1005|Mounika| 24000|\n",
      "|1001|Krishna| 14000|\n",
      "|1000|  Gopal| 12000|\n",
      "|1008| Bhavya| 30000|\n",
      "+----+-------+------+\n",
      "\n"
     ]
    }
   ],
   "source": [
    "csvdf.orderBy(col(\"Name\").desc()).show()"
   ]
  },
  {
   "cell_type": "code",
   "execution_count": 44,
   "id": "9611adee-6acc-4a54-af15-f56b7ce2a3c7",
   "metadata": {},
   "outputs": [
    {
     "name": "stdout",
     "output_type": "stream",
     "text": [
      "+----+-------+------+\n",
      "|  Id|   Name|Salary|\n",
      "+----+-------+------+\n",
      "|1008| Bhavya| 30000|\n",
      "|1000|  Gopal| 12000|\n",
      "|1001|Krishna| 14000|\n",
      "|1005|Mounika| 24000|\n",
      "|1004| Rajesh| 22000|\n",
      "|1003| Rakesh| 34000|\n",
      "|1002|  Ramya| 24000|\n",
      "|1002|   Ravi| 16000|\n",
      "|1007|   Siya| 24000|\n",
      "|1006| Sravya| 26000|\n",
      "|1009|Trinath| 34000|\n",
      "+----+-------+------+\n",
      "\n"
     ]
    }
   ],
   "source": [
    "csvdf.orderBy(col(\"Name\")).show()"
   ]
  },
  {
   "cell_type": "code",
   "execution_count": 45,
   "id": "ce708207-d889-42ac-86af-7ec458a74658",
   "metadata": {},
   "outputs": [
    {
     "name": "stdout",
     "output_type": "stream",
     "text": [
      "+----+-------+------+\n",
      "|  Id|   Name|Salary|\n",
      "+----+-------+------+\n",
      "|1008| Bhavya| 30000|\n",
      "|1000|  Gopal| 12000|\n",
      "|1001|Krishna| 14000|\n",
      "|1005|Mounika| 24000|\n",
      "|1004| Rajesh| 22000|\n",
      "|1003| Rakesh| 34000|\n",
      "|1002|  Ramya| 24000|\n",
      "|1002|   Ravi| 16000|\n",
      "|1007|   Siya| 24000|\n",
      "|1006| Sravya| 26000|\n",
      "|1009|Trinath| 34000|\n",
      "+----+-------+------+\n",
      "\n"
     ]
    }
   ],
   "source": [
    "csvdf.sort('Name').show()"
   ]
  },
  {
   "cell_type": "code",
   "execution_count": 46,
   "id": "211e502a-5f24-4424-b7f1-26eef2935f31",
   "metadata": {},
   "outputs": [],
   "source": [
    "file1 = sc.textFile(\"AccountDetails.txt\")"
   ]
  },
  {
   "cell_type": "code",
   "execution_count": 47,
   "id": "74949374-0e94-40d1-95c8-1de3c5e473b1",
   "metadata": {},
   "outputs": [],
   "source": [
    "splitFile =  file1.map(lambda x: x.split(\",\"))"
   ]
  },
  {
   "cell_type": "code",
   "execution_count": 48,
   "id": "8a1c100a-8541-4eb4-80cb-5050727418d9",
   "metadata": {},
   "outputs": [],
   "source": [
    "schema = StructType([\n",
    "    StructField(\"accId\", IntegerType(), True),\n",
    "    StructField(\"accHoldName\", StringType(), True),\n",
    "    StructField(\"typeOfAcc\", StringType(), True),\n",
    "    StructField(\"bank\", StringType(), True),\n",
    "    StructField(\"amount\", DoubleType(), True),    \n",
    "])"
   ]
  },
  {
   "cell_type": "code",
   "execution_count": 49,
   "id": "7a1769eb-d822-49e6-ada9-bf0354265c3a",
   "metadata": {},
   "outputs": [],
   "source": [
    "mappingFile = splitFile.map(lambda x: (int(x[0].strip()) if x[0].strip().isdigit() else 0,\n",
    "                                       x[1],\n",
    "                                       x[2],\n",
    "                                       x[3],\n",
    "                                       float(x[4].strip()) if x[4].strip().isdigit() else 0.0))"
   ]
  },
  {
   "cell_type": "code",
   "execution_count": 50,
   "id": "7ee9df2b-1b31-45e5-8b67-67b3df1d72aa",
   "metadata": {},
   "outputs": [],
   "source": [
    "df = spark.createDataFrame(mappingFile, schema=schema)"
   ]
  },
  {
   "cell_type": "code",
   "execution_count": 51,
   "id": "6b4ffb1e-beb3-493e-9860-a7788b0b32d6",
   "metadata": {},
   "outputs": [
    {
     "name": "stdout",
     "output_type": "stream",
     "text": [
      "+-----+-----------+---------+-----+-------+\n",
      "|accId|accHoldName|typeOfAcc| bank| amount|\n",
      "+-----+-----------+---------+-----+-------+\n",
      "|10101|      Gopal|  Savings|ICICI|50000.0|\n",
      "|10201|    Krishna|  Current|  SBI|56000.0|\n",
      "|10301|       Ravi|  Savings| HDFC|67000.0|\n",
      "|20201|      Ramya|  Savings|  SBI|89000.0|\n",
      "|30303|      Radha|    Fixed|ICICI|56000.0|\n",
      "|50607|      Sruth|  Current| AXIS|45000.0|\n",
      "|70007|     Nalini|    Fixed| HDFC|66000.0|\n",
      "|33333|        Raj|  Savings| AXIS|59500.0|\n",
      "|20201|      Ramya|  Savings|  SBI|89000.0|\n",
      "|55303|     Rakhee|    Fixed|ICICI|56000.0|\n",
      "|50607|   Santhosh|  Current| AXIS|45000.0|\n",
      "|88007|     Nandha|    Fixed| HDFC|65900.0|\n",
      "|44333|        Raj|  Savings|  SBI|79500.0|\n",
      "|10101|      Gopal|  Savings|ICICI|50000.0|\n",
      "|10201|    Krishna|  Current|  SBI|56000.0|\n",
      "|10301|       Ravi|  Savings| HDFC|67000.0|\n",
      "|20201|      Ramya|  Savings|  SBI|89000.0|\n",
      "|30303|      Radha|    Fixed|ICICI|56000.0|\n",
      "|50607|      Sruth|  Current| AXIS|45000.0|\n",
      "|70007|     Nalini|    Fixed| HDFC|66000.0|\n",
      "+-----+-----------+---------+-----+-------+\n",
      "only showing top 20 rows\n",
      "\n"
     ]
    }
   ],
   "source": [
    "df.show()"
   ]
  },
  {
   "cell_type": "code",
   "execution_count": 52,
   "id": "e3dabe55-986b-4d62-929c-755cc76a3b4b",
   "metadata": {},
   "outputs": [
    {
     "name": "stdout",
     "output_type": "stream",
     "text": [
      "+-----+-----+\n",
      "| bank|count|\n",
      "+-----+-----+\n",
      "| AXIS|    5|\n",
      "| HDFC|    5|\n",
      "|  SBI|    6|\n",
      "|ICICI|    5|\n",
      "+-----+-----+\n",
      "\n"
     ]
    }
   ],
   "source": [
    "df.groupBy(\"bank\").count().show()"
   ]
  },
  {
   "cell_type": "code",
   "execution_count": 53,
   "id": "7bf10e48-46ab-460e-b5cd-2111d4dcc9b8",
   "metadata": {},
   "outputs": [
    {
     "name": "stdout",
     "output_type": "stream",
     "text": [
      "+-----+-----------+\n",
      "| bank|max(amount)|\n",
      "+-----+-----------+\n",
      "| AXIS|    59500.0|\n",
      "| HDFC|    67000.0|\n",
      "|  SBI|    89000.0|\n",
      "|ICICI|    56000.0|\n",
      "+-----+-----------+\n",
      "\n"
     ]
    }
   ],
   "source": [
    "df.groupBy(\"bank\").max(\"amount\").show()"
   ]
  },
  {
   "cell_type": "code",
   "execution_count": 54,
   "id": "0b47b602-af57-4bb6-b249-61dbfb42765a",
   "metadata": {},
   "outputs": [
    {
     "name": "stdout",
     "output_type": "stream",
     "text": [
      "+-----+-----------------+\n",
      "| bank|      avg(amount)|\n",
      "+-----+-----------------+\n",
      "| AXIS|          50800.0|\n",
      "| HDFC|          66380.0|\n",
      "|  SBI|76416.66666666667|\n",
      "|ICICI|          53600.0|\n",
      "+-----+-----------------+\n",
      "\n"
     ]
    }
   ],
   "source": [
    "df.groupBy(\"bank\").mean(\"amount\").show()"
   ]
  },
  {
   "cell_type": "code",
   "execution_count": 55,
   "id": "8effc26f-6cad-437c-992e-5b6f8c1e16b9",
   "metadata": {},
   "outputs": [
    {
     "name": "stdout",
     "output_type": "stream",
     "text": [
      "+-----+-----------+\n",
      "| bank|min(amount)|\n",
      "+-----+-----------+\n",
      "| AXIS|    45000.0|\n",
      "| HDFC|    65900.0|\n",
      "|  SBI|    56000.0|\n",
      "|ICICI|    50000.0|\n",
      "+-----+-----------+\n",
      "\n"
     ]
    }
   ],
   "source": [
    "df.groupBy(\"bank\").min(\"amount\").show()"
   ]
  },
  {
   "cell_type": "code",
   "execution_count": 56,
   "id": "7e0ed32c-1246-4a07-8fc2-36a4c1388371",
   "metadata": {},
   "outputs": [],
   "source": [
    "data = sc.parallelize(range (1,30))"
   ]
  },
  {
   "cell_type": "code",
   "execution_count": 57,
   "id": "82adc3b9-8041-4f69-8206-3e87092349fe",
   "metadata": {},
   "outputs": [],
   "source": [
    "mapdata = data.map(lambda x: (x, x * x))"
   ]
  },
  {
   "cell_type": "code",
   "execution_count": 58,
   "id": "4cae46d3-1641-49a2-a0a6-b3d7b35f2f06",
   "metadata": {},
   "outputs": [
    {
     "data": {
      "text/plain": [
       "b'(16) PythonRDD[160] at RDD at PythonRDD.scala:53 []\\n |   ParallelCollectionRDD[159] at readRDDFromFile at PythonRDD.scala:289 []'"
      ]
     },
     "execution_count": 58,
     "metadata": {},
     "output_type": "execute_result"
    }
   ],
   "source": [
    "mapdata.toDebugString()"
   ]
  },
  {
   "cell_type": "code",
   "execution_count": 59,
   "id": "19438ae8-f470-4bb7-91a4-c55a3da27267",
   "metadata": {},
   "outputs": [],
   "source": [
    "file = sc.textFile(\"file:///C://Users/aksha/Pyspark/Input.log\") "
   ]
  },
  {
   "cell_type": "code",
   "execution_count": 60,
   "id": "3cc27aad-15a7-474a-94f3-14aa5f4a08ad",
   "metadata": {},
   "outputs": [],
   "source": [
    "wordcount = file.flatMap(lambda x: x.split()).map(lambda x: (x, 1)).reduceByKey(lambda a, b: a + b).sortBy(lambda x: x[0])"
   ]
  },
  {
   "cell_type": "code",
   "execution_count": 61,
   "id": "0c3688b1-9918-452d-892c-1f743e73c196",
   "metadata": {},
   "outputs": [
    {
     "data": {
      "text/plain": [
       "b'(2) PythonRDD[173] at RDD at PythonRDD.scala:53 []\\n |  MapPartitionsRDD[172] at mapPartitions at PythonRDD.scala:160 []\\n |  ShuffledRDD[171] at partitionBy at NativeMethodAccessorImpl.java:0 []\\n +-(2) PairwiseRDD[170] at sortBy at C:\\\\Users\\\\aksha\\\\AppData\\\\Local\\\\Temp\\\\ipykernel_9664\\\\1772569709.py:1 []\\n    |  PythonRDD[169] at sortBy at C:\\\\Users\\\\aksha\\\\AppData\\\\Local\\\\Temp\\\\ipykernel_9664\\\\1772569709.py:1 []\\n    |  MapPartitionsRDD[166] at mapPartitions at PythonRDD.scala:160 []\\n    |  ShuffledRDD[165] at partitionBy at NativeMethodAccessorImpl.java:0 []\\n    +-(2) PairwiseRDD[164] at reduceByKey at C:\\\\Users\\\\aksha\\\\AppData\\\\Local\\\\Temp\\\\ipykernel_9664\\\\1772569709.py:1 []\\n       |  PythonRDD[163] at reduceByKey at C:\\\\Users\\\\aksha\\\\AppData\\\\Local\\\\Temp\\\\ipykernel_9664\\\\1772569709.py:1 []\\n       |  file:///C://Users/aksha/Pyspark/Input.log MapPartitionsRDD[162] at textFile at NativeMethodAccessorImpl.java:0 []\\n       |  file:///C://Users/aksha/Pyspark/Input.log HadoopRDD[161] at textFile at NativeMethodAccessorImpl.java:0 []'"
      ]
     },
     "execution_count": 61,
     "metadata": {},
     "output_type": "execute_result"
    }
   ],
   "source": [
    "wordcount.toDebugString()"
   ]
  },
  {
   "cell_type": "code",
   "execution_count": 62,
   "id": "65995c62-b864-4541-862b-7ba19328cbac",
   "metadata": {},
   "outputs": [
    {
     "name": "stdout",
     "output_type": "stream",
     "text": [
      "+-----------+-----------+-----------+-----------------+\n",
      "|max(amount)|min(amount)|sum(amount)|      avg(amount)|\n",
      "+-----------+-----------+-----------+-----------------+\n",
      "|    89000.0|    45000.0|  1312400.0|62495.23809523809|\n",
      "+-----------+-----------+-----------+-----------------+\n",
      "\n"
     ]
    }
   ],
   "source": [
    "df.agg(max(\"amount\"),min(\"amount\"),sum(\"amount\"),mean(\"amount\")).show()"
   ]
  },
  {
   "cell_type": "code",
   "execution_count": 63,
   "id": "635f4952-8dad-4a62-8960-052f85186c4a",
   "metadata": {},
   "outputs": [
    {
     "name": "stdout",
     "output_type": "stream",
     "text": [
      "+-------+-----------------+-----------+---------+----+-----------------+\n",
      "|summary|            accId|accHoldName|typeOfAcc|bank|           amount|\n",
      "+-------+-----------------+-----------+---------+----+-----------------+\n",
      "|  count|               21|         21|       21|  21|               21|\n",
      "|   mean|34693.28571428572|       NULL|     NULL|NULL|62495.23809523809|\n",
      "| stddev|23329.69529407287|       NULL|     NULL|NULL|14022.85549346053|\n",
      "|    min|            10101|      Gopal|  Current|AXIS|          45000.0|\n",
      "|    max|            88007|      Sruth|  Savings| SBI|          89000.0|\n",
      "+-------+-----------------+-----------+---------+----+-----------------+\n",
      "\n"
     ]
    }
   ],
   "source": [
    "df.describe().show()"
   ]
  },
  {
   "cell_type": "code",
   "execution_count": 64,
   "id": "c57ddc87-8bd3-429a-bdde-c9aebe2993ae",
   "metadata": {},
   "outputs": [
    {
     "name": "stdout",
     "output_type": "stream",
     "text": [
      "+-----+-----------+---------+-----+-------+------+\n",
      "|accId|accHoldName|typeOfAcc| bank| amount|   ROI|\n",
      "+-----+-----------+---------+-----+-------+------+\n",
      "|10101|      Gopal|  Savings|ICICI|50000.0|5000.0|\n",
      "|10201|    Krishna|  Current|  SBI|56000.0|5600.0|\n",
      "|10301|       Ravi|  Savings| HDFC|67000.0|6700.0|\n",
      "|20201|      Ramya|  Savings|  SBI|89000.0|8900.0|\n",
      "|30303|      Radha|    Fixed|ICICI|56000.0|5600.0|\n",
      "|50607|      Sruth|  Current| AXIS|45000.0|4500.0|\n",
      "|70007|     Nalini|    Fixed| HDFC|66000.0|6600.0|\n",
      "|33333|        Raj|  Savings| AXIS|59500.0|5950.0|\n",
      "|20201|      Ramya|  Savings|  SBI|89000.0|8900.0|\n",
      "|55303|     Rakhee|    Fixed|ICICI|56000.0|5600.0|\n",
      "|50607|   Santhosh|  Current| AXIS|45000.0|4500.0|\n",
      "|88007|     Nandha|    Fixed| HDFC|65900.0|6590.0|\n",
      "|44333|        Raj|  Savings|  SBI|79500.0|7950.0|\n",
      "|10101|      Gopal|  Savings|ICICI|50000.0|5000.0|\n",
      "|10201|    Krishna|  Current|  SBI|56000.0|5600.0|\n",
      "|10301|       Ravi|  Savings| HDFC|67000.0|6700.0|\n",
      "|20201|      Ramya|  Savings|  SBI|89000.0|8900.0|\n",
      "|30303|      Radha|    Fixed|ICICI|56000.0|5600.0|\n",
      "|50607|      Sruth|  Current| AXIS|45000.0|4500.0|\n",
      "|70007|     Nalini|    Fixed| HDFC|66000.0|6600.0|\n",
      "+-----+-----------+---------+-----+-------+------+\n",
      "only showing top 20 rows\n",
      "\n"
     ]
    }
   ],
   "source": [
    "newdf = df.withColumn(\"ROI\",col(\"amount\") * 0.10).show()"
   ]
  },
  {
   "cell_type": "code",
   "execution_count": null,
   "id": "edf506ea-15ef-472c-a565-22de962299e0",
   "metadata": {},
   "outputs": [],
   "source": []
  }
 ],
 "metadata": {
  "kernelspec": {
   "display_name": "PySpark 3.11",
   "language": "python",
   "name": "pyspark3.11"
  },
  "language_info": {
   "codemirror_mode": {
    "name": "ipython",
    "version": 3
   },
   "file_extension": ".py",
   "mimetype": "text/x-python",
   "name": "python",
   "nbconvert_exporter": "python",
   "pygments_lexer": "ipython3",
   "version": "3.11.13"
  }
 },
 "nbformat": 4,
 "nbformat_minor": 5
}
