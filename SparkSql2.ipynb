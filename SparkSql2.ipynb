{
 "cells": [
  {
   "cell_type": "code",
   "execution_count": 1,
   "id": "c7bb1ad4-03ae-4c98-b837-4134564560a9",
   "metadata": {},
   "outputs": [],
   "source": [
    "import findspark\n",
    "findspark.init()\n",
    "findspark.find()\n",
    "import pyspark"
   ]
  },
  {
   "cell_type": "code",
   "execution_count": 2,
   "id": "cce9d559-eea0-4c66-98b4-98ca0c5bda22",
   "metadata": {},
   "outputs": [],
   "source": [
    "from pyspark.sql import SparkSession\n",
    "# from pyspark.sql.types import StructType, StructField, IntegerType, StringType, DoubleType"
   ]
  },
  {
   "cell_type": "code",
   "execution_count": 3,
   "id": "e510f605-b395-46f2-bee3-31cdc83c30c1",
   "metadata": {},
   "outputs": [],
   "source": [
    "# import os\n",
    "\n",
    "# os.environ[\"HADOOP_HOME\"] = \"C:\\\\spark-3.5.6-bin-hadoop3\"\n",
    "# os.environ[\"PATH\"] += os.pathsep + \"C:\\\\spark-3.5.6-bin-hadoop3\\\\bin\"\n"
   ]
  },
  {
   "cell_type": "code",
   "execution_count": 4,
   "id": "89a6019b-ae84-42d9-aa34-87fd302cad26",
   "metadata": {},
   "outputs": [],
   "source": [
    "spark = SparkSession.builder.appName(\"ScalaToPySpark\").getOrCreate()\n",
    "sc = spark.sparkContext"
   ]
  },
  {
   "cell_type": "code",
   "execution_count": 5,
   "id": "5d10ed92-47be-4fc7-b6d1-b80f65bb9e7f",
   "metadata": {},
   "outputs": [],
   "source": [
    "file = spark.read.csv(\"empData.csv\")"
   ]
  },
  {
   "cell_type": "code",
   "execution_count": 6,
   "id": "ad06e7fe-8a99-4918-a924-d4cc5ceb8a6b",
   "metadata": {},
   "outputs": [
    {
     "data": {
      "text/plain": [
       "['_c0', '_c1', '_c2']"
      ]
     },
     "execution_count": 6,
     "metadata": {},
     "output_type": "execute_result"
    }
   ],
   "source": [
    "file.columns"
   ]
  },
  {
   "cell_type": "code",
   "execution_count": 7,
   "id": "dff4678d-787d-46d2-921f-78d6d55ecf23",
   "metadata": {},
   "outputs": [
    {
     "name": "stdout",
     "output_type": "stream",
     "text": [
      "+----+-------+-----+\n",
      "| _c0|    _c1|  _c2|\n",
      "+----+-------+-----+\n",
      "|1000|  Gopal|12000|\n",
      "|1001|Krishna|14000|\n",
      "|1002|   Ravi|16000|\n",
      "|1002|  Ramya|24000|\n",
      "|1003| Rakesh|34000|\n",
      "|1004| Rajesh|22000|\n",
      "|1005|Mounika|24000|\n",
      "|1006| Sravya|26000|\n",
      "|1007|   Siya|24000|\n",
      "|1008| Bhavya|30000|\n",
      "|1009|Trinath|34000|\n",
      "+----+-------+-----+\n",
      "\n"
     ]
    }
   ],
   "source": [
    "file.show()"
   ]
  },
  {
   "cell_type": "code",
   "execution_count": 8,
   "id": "eb4b37a8-c629-419b-aba0-35b647248408",
   "metadata": {},
   "outputs": [
    {
     "name": "stdout",
     "output_type": "stream",
     "text": [
      "root\n",
      " |-- _c0: string (nullable = true)\n",
      " |-- _c1: string (nullable = true)\n",
      " |-- _c2: string (nullable = true)\n",
      "\n"
     ]
    }
   ],
   "source": [
    "file.printSchema()"
   ]
  },
  {
   "cell_type": "code",
   "execution_count": 9,
   "id": "a8c5f1c0-c77c-4408-b19c-a634b43926fe",
   "metadata": {
    "scrolled": true
   },
   "outputs": [],
   "source": [
    "file.write.mode(\"overwrite\").json(\"data.json\")"
   ]
  },
  {
   "cell_type": "code",
   "execution_count": 10,
   "id": "4a0ed948-caf0-48c0-b6df-5cd5b3485723",
   "metadata": {},
   "outputs": [],
   "source": [
    "file.write.mode(\"overwrite\").csv(\"data.csv\")"
   ]
  },
  {
   "cell_type": "code",
   "execution_count": 11,
   "id": "8779b8e5-bc2e-4e49-9c8a-e948637dfe5a",
   "metadata": {},
   "outputs": [],
   "source": [
    "file.write.mode(\"overwrite\").orc(\"data.orc\")"
   ]
  },
  {
   "cell_type": "code",
   "execution_count": 12,
   "id": "daa8f2dc-4087-4632-85f3-c7d25df1988d",
   "metadata": {},
   "outputs": [],
   "source": [
    "file.createOrReplaceTempView(\"filetab\")"
   ]
  },
  {
   "cell_type": "code",
   "execution_count": 13,
   "id": "abbc2cba-424e-467a-83c7-26f30d255496",
   "metadata": {},
   "outputs": [
    {
     "name": "stdout",
     "output_type": "stream",
     "text": [
      "+---------+---------+-----------+\n",
      "|namespace|tableName|isTemporary|\n",
      "+---------+---------+-----------+\n",
      "|         |  filetab|       true|\n",
      "+---------+---------+-----------+\n",
      "\n"
     ]
    }
   ],
   "source": [
    "spark.sql(\"show tables\").show()"
   ]
  },
  {
   "cell_type": "code",
   "execution_count": 14,
   "id": "7a618f1b-6aa3-4785-9681-89cfcab8f06d",
   "metadata": {},
   "outputs": [],
   "source": [
    "newfile = spark.sql(\"SELECT * FROM filetab where _c2 > 24000\")"
   ]
  },
  {
   "cell_type": "code",
   "execution_count": 15,
   "id": "21fa376e-5d98-46c2-95a8-abaca0aa8519",
   "metadata": {},
   "outputs": [
    {
     "name": "stdout",
     "output_type": "stream",
     "text": [
      "+----+-------+-----+\n",
      "| _c0|    _c1|  _c2|\n",
      "+----+-------+-----+\n",
      "|1000|  Gopal|12000|\n",
      "|1001|Krishna|14000|\n",
      "|1002|   Ravi|16000|\n",
      "|1002|  Ramya|24000|\n",
      "|1003| Rakesh|34000|\n",
      "|1004| Rajesh|22000|\n",
      "|1005|Mounika|24000|\n",
      "|1006| Sravya|26000|\n",
      "|1007|   Siya|24000|\n",
      "|1008| Bhavya|30000|\n",
      "|1009|Trinath|34000|\n",
      "+----+-------+-----+\n",
      "\n"
     ]
    }
   ],
   "source": [
    "file.show()"
   ]
  },
  {
   "cell_type": "code",
   "execution_count": 16,
   "id": "bf28cce5-bd07-4262-accf-c2655b721f25",
   "metadata": {},
   "outputs": [
    {
     "name": "stdout",
     "output_type": "stream",
     "text": [
      "+----+-------+-----+\n",
      "| _c0|    _c1|  _c2|\n",
      "+----+-------+-----+\n",
      "|1003| Rakesh|34000|\n",
      "|1006| Sravya|26000|\n",
      "|1008| Bhavya|30000|\n",
      "|1009|Trinath|34000|\n",
      "+----+-------+-----+\n",
      "\n"
     ]
    }
   ],
   "source": [
    "newfile.show()"
   ]
  },
  {
   "cell_type": "code",
   "execution_count": 17,
   "id": "1c316fea-0917-4c0a-a994-2162c4516cfd",
   "metadata": {},
   "outputs": [],
   "source": [
    "newfile.write.mode(\"append\").csv(\"empData\")"
   ]
  },
  {
   "cell_type": "code",
   "execution_count": 18,
   "id": "5380a89a-6a94-45d0-b010-59c1b62bed7a",
   "metadata": {},
   "outputs": [],
   "source": [
    "newfile.write.mode(\"overwrite\").csv(\"empData\")"
   ]
  },
  {
   "cell_type": "code",
   "execution_count": 19,
   "id": "a2981b31-822a-4949-b77a-9713b2a5f3ad",
   "metadata": {},
   "outputs": [],
   "source": [
    "jfile = spark.read.json(\"inputData.json\")"
   ]
  },
  {
   "cell_type": "code",
   "execution_count": 20,
   "id": "047bba57-8406-453d-983e-b4f84c97025e",
   "metadata": {},
   "outputs": [
    {
     "name": "stdout",
     "output_type": "stream",
     "text": [
      "+-----------+----+--------------+-------------+--------+------------+\n",
      "|    Address| Age|          Desg|        State|YrsOfExp|        name|\n",
      "+-----------+----+--------------+-------------+--------+------------+\n",
      "|  Hyderabad|NULL|           STA|    Telangana|    12.5|       Gopal|\n",
      "|  Bangalore|   6|          NULL|    Karnataka|    NULL|     Mounika|\n",
      "|    Chennai|  22|   Sw Engineer|    TamilNadu|     1.2|       Ramya|\n",
      "|  Hyderabad|NULL|            TA|    Telangana|    12.5|      Sekhar|\n",
      "|  Bangalore|  12|          NULL|    Karnataka|    NULL|      Reshma|\n",
      "|       Pune|  22|   Sw Engineer|   Maharastra|     1.2|       Ramya|\n",
      "|  Hyderabad|NULL|Senior Analyst|    Telangana|     9.5| Ravichandra|\n",
      "|  Bangalore|  18|          NULL|    Karnataka|    NULL|     Meghana|\n",
      "|      Delhi|  22|   Sw Engineer|        Delhi|     1.2|      Ravali|\n",
      "|  Hyderabad|NULL|           STA|    Telangana|    12.5| MahaLakshmi|\n",
      "|  Bangalore|   6|          NULL|    Karnataka|    NULL|SouravMishra|\n",
      "|     Indore|  22|   Sw Engineer|MadhyaPradesh|     1.2|       Ramya|\n",
      "|  Hyderabad|NULL|           STA|    Telangana|    12.5|       Gopal|\n",
      "|  Bangalore|  34|          NULL|    Karnataka|    NULL|     Mounika|\n",
      "|    Chennai|  22|   Sw Engineer|AndhraPradesh|     1.2|       Ramya|\n",
      "|  Hyderabad|NULL|           STA|    Telangana|    12.5|       Gopal|\n",
      "|  Hyderabad|  40|          NULL|    Telangana|    NULL|     Raghava|\n",
      "|    Chennai|  32|          NULL|    Telangana|    NULL|       Raaji|\n",
      "|   Warangal|NULL|           STA|    Telangana|    12.5|       Gopal|\n",
      "|Tiruvendram|  38|          NULL|       Kerala|    NULL|   Mahildhar|\n",
      "+-----------+----+--------------+-------------+--------+------------+\n",
      "only showing top 20 rows\n",
      "\n"
     ]
    }
   ],
   "source": [
    "jfile.show()"
   ]
  },
  {
   "cell_type": "code",
   "execution_count": 21,
   "id": "d104e4d1-6fc7-4ec7-a285-bcc1cbe4e4a6",
   "metadata": {},
   "outputs": [
    {
     "data": {
      "text/plain": [
       "['Address', 'Age', 'Desg', 'State', 'YrsOfExp', 'name']"
      ]
     },
     "execution_count": 21,
     "metadata": {},
     "output_type": "execute_result"
    }
   ],
   "source": [
    "jfile.columns"
   ]
  },
  {
   "cell_type": "code",
   "execution_count": 22,
   "id": "e8b9158a-933f-4a09-b19c-20d48c5e7bfd",
   "metadata": {},
   "outputs": [
    {
     "name": "stdout",
     "output_type": "stream",
     "text": [
      "root\n",
      " |-- Address: string (nullable = true)\n",
      " |-- Age: long (nullable = true)\n",
      " |-- Desg: string (nullable = true)\n",
      " |-- State: string (nullable = true)\n",
      " |-- YrsOfExp: double (nullable = true)\n",
      " |-- name: string (nullable = true)\n",
      "\n"
     ]
    }
   ],
   "source": [
    "jfile.printSchema()"
   ]
  },
  {
   "cell_type": "code",
   "execution_count": null,
   "id": "dbe022f3-c45d-4178-9b7f-cadc5abcc170",
   "metadata": {},
   "outputs": [],
   "source": []
  }
 ],
 "metadata": {
  "kernelspec": {
   "display_name": "Python 3.11 (PySpark)",
   "language": "python",
   "name": "python311"
  },
  "language_info": {
   "codemirror_mode": {
    "name": "ipython",
    "version": 3
   },
   "file_extension": ".py",
   "mimetype": "text/x-python",
   "name": "python",
   "nbconvert_exporter": "python",
   "pygments_lexer": "ipython3",
   "version": "3.11.0"
  }
 },
 "nbformat": 4,
 "nbformat_minor": 5
}
