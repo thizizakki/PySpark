{
 "cells": [
  {
   "cell_type": "code",
   "execution_count": 1,
   "id": "f8521a5e-11bf-4115-b767-7c1b043a2aa3",
   "metadata": {},
   "outputs": [],
   "source": [
    "import findspark\n",
    "findspark.init()\n",
    "findspark.find()\n",
    "\n",
    "import pyspark"
   ]
  },
  {
   "cell_type": "code",
   "execution_count": 2,
   "id": "38f09ec6-f569-478a-a55d-d974f8f73f22",
   "metadata": {},
   "outputs": [],
   "source": [
    "from pyspark.sql import SparkSession"
   ]
  },
  {
   "cell_type": "code",
   "execution_count": 3,
   "id": "e65d3941-729c-4dc6-a2da-1e00437e4c80",
   "metadata": {},
   "outputs": [],
   "source": [
    "from pyspark.sql import SparkSession\n",
    "from pyspark.sql import SparkSession, Row\n",
    "from pyspark.sql.functions import col"
   ]
  },
  {
   "cell_type": "code",
   "execution_count": 4,
   "id": "133e37d7-6c72-42a6-9d97-06d636198828",
   "metadata": {},
   "outputs": [],
   "source": [
    "spark = SparkSession.builder.appName(\"ScalaToPySpark\").getOrCreate()\n",
    "sc = spark.sparkContext"
   ]
  },
  {
   "cell_type": "code",
   "execution_count": 5,
   "id": "3129a05f-cc62-4822-8f99-4ec21b8eaedb",
   "metadata": {},
   "outputs": [],
   "source": [
    "file = sc.textFile(\"file:///C://Users/aksha/Pyspark/Input.log\") "
   ]
  },
  {
   "cell_type": "code",
   "execution_count": 6,
   "id": "15f94a8c-186f-48f0-b0d5-d8a717b5d434",
   "metadata": {},
   "outputs": [
    {
     "data": {
      "text/plain": [
       "2"
      ]
     },
     "execution_count": 6,
     "metadata": {},
     "output_type": "execute_result"
    }
   ],
   "source": [
    "sc.defaultMinPartitions"
   ]
  },
  {
   "cell_type": "code",
   "execution_count": 7,
   "id": "ea9205e4-b1d6-475b-b996-d4889fe0171d",
   "metadata": {},
   "outputs": [
    {
     "data": {
      "text/plain": [
       "2"
      ]
     },
     "execution_count": 7,
     "metadata": {},
     "output_type": "execute_result"
    }
   ],
   "source": [
    "file.getNumPartitions()"
   ]
  },
  {
   "cell_type": "code",
   "execution_count": 8,
   "id": "3c61181f-156d-410d-8f0b-44bb73ff08cc",
   "metadata": {},
   "outputs": [],
   "source": [
    "data = sc.parallelize(range(1,41))"
   ]
  },
  {
   "cell_type": "code",
   "execution_count": 9,
   "id": "55e7c962-6abe-48b2-b860-6f61d8e1a7c3",
   "metadata": {},
   "outputs": [
    {
     "data": {
      "text/plain": [
       "16"
      ]
     },
     "execution_count": 9,
     "metadata": {},
     "output_type": "execute_result"
    }
   ],
   "source": [
    "sc.defaultParallelism"
   ]
  },
  {
   "cell_type": "code",
   "execution_count": 10,
   "id": "5cb71f5a-b210-4fe9-a50f-ce1892edd6fb",
   "metadata": {},
   "outputs": [
    {
     "data": {
      "text/plain": [
       "16"
      ]
     },
     "execution_count": 10,
     "metadata": {},
     "output_type": "execute_result"
    }
   ],
   "source": [
    "data.getNumPartitions()"
   ]
  },
  {
   "cell_type": "code",
   "execution_count": 11,
   "id": "20644daf-9044-44dc-8ea3-580727dc2920",
   "metadata": {},
   "outputs": [],
   "source": [
    "repartData = data.repartition(8)"
   ]
  },
  {
   "cell_type": "code",
   "execution_count": 12,
   "id": "44878a45-cf4e-4d6a-b0b0-56e65d4b76ba",
   "metadata": {},
   "outputs": [
    {
     "data": {
      "text/plain": [
       "8"
      ]
     },
     "execution_count": 12,
     "metadata": {},
     "output_type": "execute_result"
    }
   ],
   "source": [
    "repartData.getNumPartitions()"
   ]
  },
  {
   "cell_type": "code",
   "execution_count": 13,
   "id": "75c5297b-9fb0-480f-87f7-cc570ae5d2fd",
   "metadata": {},
   "outputs": [],
   "source": [
    "# repartData.saveAsTextFile(\"file:///C:\\\\Users\\\\aksha\\\\Pyspark\\\\output\")  # Escaped backslashes"
   ]
  },
  {
   "cell_type": "code",
   "execution_count": 14,
   "id": "a811c1f4-7e42-462e-8044-8db44d6b0ef7",
   "metadata": {},
   "outputs": [
    {
     "data": {
      "text/plain": [
       "[(0, [6, 7, 13, 14, 15]),\n",
       " (1, []),\n",
       " (2, [1, 2, 3, 4, 5, 26, 27]),\n",
       " (3, []),\n",
       " (4, [18, 19, 20, 36, 37]),\n",
       " (5, [11, 12, 21, 22, 31, 32, 33, 34, 35, 38, 39, 40]),\n",
       " (6, [8, 9, 10, 23, 24, 25, 28, 29, 30]),\n",
       " (7, [16, 17])]"
      ]
     },
     "execution_count": 14,
     "metadata": {},
     "output_type": "execute_result"
    }
   ],
   "source": [
    "def inspect_partitions(rdd):   #Data within the partitioned RDDs\n",
    "    return (rdd.mapPartitionsWithIndex(lambda idx, it: [(idx, list(it))]).collect())\n",
    "inspect_partitions(repartData)\n"
   ]
  },
  {
   "cell_type": "code",
   "execution_count": 15,
   "id": "692557fd-7d02-4a27-8b44-9ae4084fee9d",
   "metadata": {},
   "outputs": [],
   "source": [
    "coadata = data.coalesce(2)"
   ]
  },
  {
   "cell_type": "code",
   "execution_count": 16,
   "id": "27dd5dd9-5d51-4895-967f-2befd2ac5239",
   "metadata": {},
   "outputs": [
    {
     "data": {
      "text/plain": [
       "2"
      ]
     },
     "execution_count": 16,
     "metadata": {},
     "output_type": "execute_result"
    }
   ],
   "source": [
    "coadata.getNumPartitions()"
   ]
  },
  {
   "cell_type": "code",
   "execution_count": 17,
   "id": "6236ae75-5f91-4b41-bf90-02db222bb6fa",
   "metadata": {},
   "outputs": [],
   "source": [
    "# coadata.saveAsTextFile(\"file:///C:\\\\Users\\\\aksha\\\\Pyspark\\\\output\")  # Escaped backslashes"
   ]
  },
  {
   "cell_type": "code",
   "execution_count": 18,
   "id": "a88b8c9d-2cb2-4227-95e2-1213c5ebb86a",
   "metadata": {},
   "outputs": [
    {
     "data": {
      "text/plain": [
       "[(0, [1, 2, 3, 4, 5, 6, 7, 8, 9, 10, 11, 12, 13, 14, 15, 16, 17, 18, 19, 20]),\n",
       " (1,\n",
       "  [21,\n",
       "   22,\n",
       "   23,\n",
       "   24,\n",
       "   25,\n",
       "   26,\n",
       "   27,\n",
       "   28,\n",
       "   29,\n",
       "   30,\n",
       "   31,\n",
       "   32,\n",
       "   33,\n",
       "   34,\n",
       "   35,\n",
       "   36,\n",
       "   37,\n",
       "   38,\n",
       "   39,\n",
       "   40])]"
      ]
     },
     "execution_count": 18,
     "metadata": {},
     "output_type": "execute_result"
    }
   ],
   "source": [
    "def inspect_partitions(rdd):   #Data within the partitioned RDDs\n",
    "    return (rdd.mapPartitionsWithIndex(lambda idx, it: [(idx, list(it))]).collect())\n",
    "inspect_partitions(coadata)\n"
   ]
  },
  {
   "cell_type": "code",
   "execution_count": null,
   "id": "9376503d-380d-470b-8b3d-bc1dbf863f96",
   "metadata": {},
   "outputs": [],
   "source": []
  }
 ],
 "metadata": {
  "kernelspec": {
   "display_name": "PySpark (Python 3.10)",
   "language": "python",
   "name": "pyspark_env"
  },
  "language_info": {
   "codemirror_mode": {
    "name": "ipython",
    "version": 3
   },
   "file_extension": ".py",
   "mimetype": "text/x-python",
   "name": "python",
   "nbconvert_exporter": "python",
   "pygments_lexer": "ipython3",
   "version": "3.10.18"
  }
 },
 "nbformat": 4,
 "nbformat_minor": 5
}
