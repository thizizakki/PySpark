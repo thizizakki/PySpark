{
 "cells": [
  {
   "cell_type": "code",
   "execution_count": 1,
   "id": "7ff93d40-ae6b-4028-8b2b-80ff23f97a99",
   "metadata": {},
   "outputs": [],
   "source": [
    "import findspark\n",
    "findspark.init()\n",
    "findspark.find()\n",
    "\n",
    "import pyspark"
   ]
  },
  {
   "cell_type": "code",
   "execution_count": 2,
   "id": "6ab1c9a7-94a4-4432-b901-204f57a71007",
   "metadata": {},
   "outputs": [],
   "source": [
    "from pyspark.sql import SparkSession\n",
    "from pyspark import SparkContext"
   ]
  },
  {
   "cell_type": "code",
   "execution_count": 3,
   "id": "2f4801a1-f59f-4186-88f0-a947288452c5",
   "metadata": {},
   "outputs": [],
   "source": [
    "spark = SparkSession.builder.appName(\"ScalaToPySpark\").getOrCreate()\n",
    "sc = spark.sparkContext"
   ]
  },
  {
   "cell_type": "code",
   "execution_count": 4,
   "id": "321f53cf-cecb-4f63-8b32-29377831b402",
   "metadata": {},
   "outputs": [],
   "source": [
    "data1 = sc.parallelize([\"Spark\", \"Scala\", \"Java\", \"C++\", \"Python\", \"Cobot\"])"
   ]
  },
  {
   "cell_type": "code",
   "execution_count": 5,
   "id": "b77ae2b5-2b06-4966-86a6-0973afb9b669",
   "metadata": {},
   "outputs": [],
   "source": [
    "data2 = sc.parallelize([\"JavaScript\", \"Hadoop\", \"Scala\", \"Java\", \"Informatica\", \"DataStage\"])"
   ]
  },
  {
   "cell_type": "code",
   "execution_count": 6,
   "id": "0b983b48-d046-4a7c-9211-fc299a308315",
   "metadata": {},
   "outputs": [],
   "source": [
    "result = data1.join(data2) "
   ]
  },
  {
   "cell_type": "code",
   "execution_count": 7,
   "id": "7b03abc6-4c82-49fe-8882-69c475ec482c",
   "metadata": {},
   "outputs": [],
   "source": [
    "# result.collect()  #got the expected error because of key value pair mismatch"
   ]
  },
  {
   "cell_type": "code",
   "execution_count": 8,
   "id": "3e5c85e4-a964-4fc9-862d-71cd885bd3b6",
   "metadata": {},
   "outputs": [],
   "source": [
    "data4 = sc.parallelize([(\"Spark\", 40),(\"Scala\", 50),(\"Java\", 20),(\"C++\", 30),(\"Python\", 50),(\"Cobol\", 30)])"
   ]
  },
  {
   "cell_type": "code",
   "execution_count": 9,
   "id": "c14a865c-2059-4417-b698-812f9fe97085",
   "metadata": {},
   "outputs": [],
   "source": [
    "data5 = sc.parallelize([(\"JavaScript\", 20),(\"Hadoop\", 80),(\"Scala\", 90),(\"Java\", 80),(\"Informatica\", 40),(\"DataStage\", 90)])"
   ]
  },
  {
   "cell_type": "code",
   "execution_count": 10,
   "id": "1f8c1468-9264-47da-8b9e-c7a6429abd04",
   "metadata": {},
   "outputs": [],
   "source": [
    "result = data4.join(data5)"
   ]
  },
  {
   "cell_type": "code",
   "execution_count": 11,
   "id": "39a7087e-ab4b-4479-84b5-d79a1767c7c8",
   "metadata": {},
   "outputs": [
    {
     "data": {
      "text/plain": [
       "[('Java', (20, 80)), ('Scala', (50, 90))]"
      ]
     },
     "execution_count": 11,
     "metadata": {},
     "output_type": "execute_result"
    }
   ],
   "source": [
    "result.collect()"
   ]
  },
  {
   "cell_type": "code",
   "execution_count": 12,
   "id": "51e84616-34c8-41f8-8887-29f8c20f30f0",
   "metadata": {},
   "outputs": [
    {
     "name": "stdout",
     "output_type": "stream",
     "text": [
      "('Java', (20, 80))\n",
      "('Scala', (50, 90))\n"
     ]
    }
   ],
   "source": [
    "for record in result.collect():\n",
    "    print(record)"
   ]
  },
  {
   "cell_type": "code",
   "execution_count": 13,
   "id": "45a12f06-1403-4978-ab8e-cc82a7c69c35",
   "metadata": {},
   "outputs": [],
   "source": [
    "result2 = data4.leftOuterJoin(data5)"
   ]
  },
  {
   "cell_type": "code",
   "execution_count": 14,
   "id": "51422004-41e0-412d-94c7-27705a0f5c97",
   "metadata": {},
   "outputs": [
    {
     "data": {
      "text/plain": [
       "[('Java', (20, 80)),\n",
       " ('Spark', (40, None)),\n",
       " ('Python', (50, None)),\n",
       " ('C++', (30, None)),\n",
       " ('Scala', (50, 90)),\n",
       " ('Cobol', (30, None))]"
      ]
     },
     "execution_count": 14,
     "metadata": {},
     "output_type": "execute_result"
    }
   ],
   "source": [
    "result2.collect()"
   ]
  },
  {
   "cell_type": "code",
   "execution_count": 15,
   "id": "0d7918d4-3a82-4a46-8352-e310593ffd2f",
   "metadata": {},
   "outputs": [
    {
     "name": "stdout",
     "output_type": "stream",
     "text": [
      "('Java', (20, 80))\n",
      "('Spark', (40, None))\n",
      "('Python', (50, None))\n",
      "('C++', (30, None))\n",
      "('Scala', (50, 90))\n",
      "('Cobol', (30, None))\n"
     ]
    }
   ],
   "source": [
    "for record in result2.collect():\n",
    "    print(record)"
   ]
  },
  {
   "cell_type": "code",
   "execution_count": 16,
   "id": "0e483512-b41e-4258-a443-5499abaf93c1",
   "metadata": {},
   "outputs": [],
   "source": [
    "result3 = data4.rightOuterJoin(data5)"
   ]
  },
  {
   "cell_type": "code",
   "execution_count": 17,
   "id": "e3db5991-6a83-4ed3-a461-c0be4e112812",
   "metadata": {},
   "outputs": [
    {
     "name": "stdout",
     "output_type": "stream",
     "text": [
      "('Java', (20, 80))\n",
      "('Hadoop', (None, 80))\n",
      "('JavaScript', (None, 20))\n",
      "('DataStage', (None, 90))\n",
      "('Scala', (50, 90))\n",
      "('Informatica', (None, 40))\n"
     ]
    }
   ],
   "source": [
    "for record in result3.collect():\n",
    "    print(record)"
   ]
  },
  {
   "cell_type": "code",
   "execution_count": 18,
   "id": "ce3bf018-ab63-4987-b2d6-6ae39c321dd2",
   "metadata": {},
   "outputs": [],
   "source": [
    "result4 = data4.fullOuterJoin(data5)"
   ]
  },
  {
   "cell_type": "code",
   "execution_count": 19,
   "id": "f311ca41-d458-46e3-b689-5440e9d79006",
   "metadata": {},
   "outputs": [
    {
     "name": "stdout",
     "output_type": "stream",
     "text": [
      "('Java', (20, 80))\n",
      "('Hadoop', (None, 80))\n",
      "('Spark', (40, None))\n",
      "('Python', (50, None))\n",
      "('C++', (30, None))\n",
      "('JavaScript', (None, 20))\n",
      "('DataStage', (None, 90))\n",
      "('Scala', (50, 90))\n",
      "('Cobol', (30, None))\n",
      "('Informatica', (None, 40))\n"
     ]
    }
   ],
   "source": [
    "for record in result4.collect():\n",
    "    print(record)"
   ]
  },
  {
   "cell_type": "code",
   "execution_count": null,
   "id": "404cbad7-3a01-4504-af52-d4c6ff2e1901",
   "metadata": {},
   "outputs": [],
   "source": []
  }
 ],
 "metadata": {
  "kernelspec": {
   "display_name": "PySpark (Python 3.10)",
   "language": "python",
   "name": "pyspark_env"
  },
  "language_info": {
   "codemirror_mode": {
    "name": "ipython",
    "version": 3
   },
   "file_extension": ".py",
   "mimetype": "text/x-python",
   "name": "python",
   "nbconvert_exporter": "python",
   "pygments_lexer": "ipython3",
   "version": "3.10.18"
  }
 },
 "nbformat": 4,
 "nbformat_minor": 5
}
