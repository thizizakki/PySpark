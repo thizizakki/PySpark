{
 "cells": [
  {
   "cell_type": "code",
   "execution_count": 1,
   "id": "7ff93d40-ae6b-4028-8b2b-80ff23f97a99",
   "metadata": {},
   "outputs": [],
   "source": [
    "import findspark\n",
    "findspark.init()\n",
    "findspark.find()\n",
    "\n",
    "import pyspark"
   ]
  },
  {
   "cell_type": "code",
   "execution_count": 2,
   "id": "6ab1c9a7-94a4-4432-b901-204f57a71007",
   "metadata": {},
   "outputs": [],
   "source": [
    "from pyspark.sql import SparkSession\n",
    "from pyspark import SparkContext"
   ]
  },
  {
   "cell_type": "code",
   "execution_count": 3,
   "id": "2f4801a1-f59f-4186-88f0-a947288452c5",
   "metadata": {},
   "outputs": [],
   "source": [
    "spark = SparkSession.builder.appName(\"ScalaToPySpark\").getOrCreate()\n",
    "sc = spark.sparkContext"
   ]
  },
  {
   "cell_type": "code",
   "execution_count": 4,
   "id": "321f53cf-cecb-4f63-8b32-29377831b402",
   "metadata": {},
   "outputs": [],
   "source": [
    "data1 = sc.parallelize([\"Spark\", \"Scala\", \"Java\", \"C++\", \"Python\", \"Cobot\"])"
   ]
  },
  {
   "cell_type": "code",
   "execution_count": 5,
   "id": "f758078c-c66d-4c67-a2bc-a1a841206c78",
   "metadata": {},
   "outputs": [
    {
     "data": {
      "text/plain": [
       "PythonRDD[1] at RDD at PythonRDD.scala:53"
      ]
     },
     "execution_count": 5,
     "metadata": {},
     "output_type": "execute_result"
    }
   ],
   "source": [
    "data1.map(lambda x: (x, 1))"
   ]
  },
  {
   "cell_type": "code",
   "execution_count": 6,
   "id": "b77ae2b5-2b06-4966-86a6-0973afb9b669",
   "metadata": {},
   "outputs": [],
   "source": [
    "data2 = sc.parallelize([\"JavaScript\", \"Hadoop\", \"Scala\", \"Java\", \"Informatica\", \"DataStage\"])"
   ]
  },
  {
   "cell_type": "code",
   "execution_count": 7,
   "id": "0f951313-52ca-437f-861e-f80c9aee4c4e",
   "metadata": {},
   "outputs": [
    {
     "data": {
      "text/plain": [
       "PythonRDD[3] at RDD at PythonRDD.scala:53"
      ]
     },
     "execution_count": 7,
     "metadata": {},
     "output_type": "execute_result"
    }
   ],
   "source": [
    "data2.map(lambda x: (x, 1))"
   ]
  },
  {
   "cell_type": "code",
   "execution_count": 8,
   "id": "0b983b48-d046-4a7c-9211-fc299a308315",
   "metadata": {},
   "outputs": [],
   "source": [
    "result = data1.join(data2) "
   ]
  },
  {
   "cell_type": "code",
   "execution_count": 9,
   "id": "7b03abc6-4c82-49fe-8882-69c475ec482c",
   "metadata": {},
   "outputs": [],
   "source": [
    "# result.collect()  #got the expected error because of key value pair mismatch"
   ]
  },
  {
   "cell_type": "code",
   "execution_count": 10,
   "id": "3e5c85e4-a964-4fc9-862d-71cd885bd3b6",
   "metadata": {},
   "outputs": [],
   "source": [
    "data4 = sc.parallelize([(\"Spark\", 40),(\"Scala\", 50),(\"Java\", 20),(\"C++\", 30),(\"Python\", 50),(\"Cobol\", 30)])"
   ]
  },
  {
   "cell_type": "code",
   "execution_count": 11,
   "id": "c14a865c-2059-4417-b698-812f9fe97085",
   "metadata": {},
   "outputs": [],
   "source": [
    "data5 = sc.parallelize([(\"JavaScript\", 20),(\"Hadoop\", 80),(\"Scala\", 90),(\"Java\", 80),(\"Informatica\", 40),(\"DataStage\", 90)])"
   ]
  },
  {
   "cell_type": "code",
   "execution_count": 12,
   "id": "1f8c1468-9264-47da-8b9e-c7a6429abd04",
   "metadata": {},
   "outputs": [],
   "source": [
    "result2 = data4.join(data5)"
   ]
  },
  {
   "cell_type": "code",
   "execution_count": 13,
   "id": "39a7087e-ab4b-4479-84b5-d79a1767c7c8",
   "metadata": {},
   "outputs": [
    {
     "data": {
      "text/plain": [
       "[('Java', (20, 80)), ('Scala', (50, 90))]"
      ]
     },
     "execution_count": 13,
     "metadata": {},
     "output_type": "execute_result"
    }
   ],
   "source": [
    "result2.collect()"
   ]
  },
  {
   "cell_type": "code",
   "execution_count": 14,
   "id": "51e84616-34c8-41f8-8887-29f8c20f30f0",
   "metadata": {},
   "outputs": [
    {
     "name": "stdout",
     "output_type": "stream",
     "text": [
      "('Java', (20, 80))\n",
      "('Scala', (50, 90))\n"
     ]
    }
   ],
   "source": [
    "for record in result2.collect():\n",
    "    print(record)"
   ]
  },
  {
   "cell_type": "code",
   "execution_count": 15,
   "id": "45a12f06-1403-4978-ab8e-cc82a7c69c35",
   "metadata": {},
   "outputs": [],
   "source": [
    "result3 = data4.leftOuterJoin(data5)"
   ]
  },
  {
   "cell_type": "code",
   "execution_count": 16,
   "id": "51422004-41e0-412d-94c7-27705a0f5c97",
   "metadata": {},
   "outputs": [
    {
     "data": {
      "text/plain": [
       "[('Java', (20, 80)),\n",
       " ('Spark', (40, None)),\n",
       " ('Python', (50, None)),\n",
       " ('C++', (30, None)),\n",
       " ('Scala', (50, 90)),\n",
       " ('Cobol', (30, None))]"
      ]
     },
     "execution_count": 16,
     "metadata": {},
     "output_type": "execute_result"
    }
   ],
   "source": [
    "result3.collect()"
   ]
  },
  {
   "cell_type": "code",
   "execution_count": 17,
   "id": "0d7918d4-3a82-4a46-8352-e310593ffd2f",
   "metadata": {},
   "outputs": [
    {
     "name": "stdout",
     "output_type": "stream",
     "text": [
      "('Java', (20, 80))\n",
      "('Spark', (40, None))\n",
      "('Python', (50, None))\n",
      "('C++', (30, None))\n",
      "('Scala', (50, 90))\n",
      "('Cobol', (30, None))\n"
     ]
    }
   ],
   "source": [
    "for record in result3.collect():\n",
    "    print(record)"
   ]
  },
  {
   "cell_type": "code",
   "execution_count": 18,
   "id": "0e483512-b41e-4258-a443-5499abaf93c1",
   "metadata": {},
   "outputs": [],
   "source": [
    "result4 = data4.rightOuterJoin(data5)"
   ]
  },
  {
   "cell_type": "code",
   "execution_count": 19,
   "id": "e3db5991-6a83-4ed3-a461-c0be4e112812",
   "metadata": {},
   "outputs": [
    {
     "name": "stdout",
     "output_type": "stream",
     "text": [
      "('Java', (20, 80))\n",
      "('Hadoop', (None, 80))\n",
      "('JavaScript', (None, 20))\n",
      "('DataStage', (None, 90))\n",
      "('Scala', (50, 90))\n",
      "('Informatica', (None, 40))\n"
     ]
    }
   ],
   "source": [
    "for record in result4.collect():\n",
    "    print(record)"
   ]
  },
  {
   "cell_type": "code",
   "execution_count": 20,
   "id": "ce3bf018-ab63-4987-b2d6-6ae39c321dd2",
   "metadata": {},
   "outputs": [],
   "source": [
    "result5 = data4.fullOuterJoin(data5)"
   ]
  },
  {
   "cell_type": "code",
   "execution_count": 21,
   "id": "f311ca41-d458-46e3-b689-5440e9d79006",
   "metadata": {},
   "outputs": [
    {
     "name": "stdout",
     "output_type": "stream",
     "text": [
      "('Java', (20, 80))\n",
      "('Hadoop', (None, 80))\n",
      "('Spark', (40, None))\n",
      "('Python', (50, None))\n",
      "('C++', (30, None))\n",
      "('JavaScript', (None, 20))\n",
      "('DataStage', (None, 90))\n",
      "('Scala', (50, 90))\n",
      "('Cobol', (30, None))\n",
      "('Informatica', (None, 40))\n"
     ]
    }
   ],
   "source": [
    "for record in result5.collect():\n",
    "    print(record)"
   ]
  },
  {
   "cell_type": "code",
   "execution_count": 22,
   "id": "404cbad7-3a01-4504-af52-d4c6ff2e1901",
   "metadata": {},
   "outputs": [],
   "source": [
    "data6 = sc.parallelize([(\"Spark\", 40),(\"Scala\", 50),(\"Java\", 20),(\"C++\", 30),(\"Python\", 50),(\"Cobol\", 30),(\"Java\", 90),(\"Java\", 30),(\"Java\", 50)])"
   ]
  },
  {
   "cell_type": "code",
   "execution_count": 23,
   "id": "312cd8df-e530-410d-9861-7a69d4d58893",
   "metadata": {},
   "outputs": [],
   "source": [
    "result6 = data6.lookup(\"Java\")"
   ]
  },
  {
   "cell_type": "code",
   "execution_count": 24,
   "id": "e9490aa4-4525-4473-8cfd-98ee3dcdde29",
   "metadata": {},
   "outputs": [
    {
     "data": {
      "text/plain": [
       "[20, 90, 30, 50]"
      ]
     },
     "execution_count": 24,
     "metadata": {},
     "output_type": "execute_result"
    }
   ],
   "source": [
    "result6"
   ]
  },
  {
   "cell_type": "code",
   "execution_count": 25,
   "id": "d3c3d5a9-5b31-4155-9d20-cb8b649f576a",
   "metadata": {},
   "outputs": [
    {
     "data": {
      "text/plain": [
       "defaultdict(int,\n",
       "            {('Spark', 40): 1,\n",
       "             ('Scala', 50): 1,\n",
       "             ('Java', 20): 1,\n",
       "             ('C++', 30): 1,\n",
       "             ('Python', 50): 1,\n",
       "             ('Cobol', 30): 1,\n",
       "             ('Java', 90): 1,\n",
       "             ('Java', 30): 1,\n",
       "             ('Java', 50): 1})"
      ]
     },
     "execution_count": 25,
     "metadata": {},
     "output_type": "execute_result"
    }
   ],
   "source": [
    "data6.countByValue()"
   ]
  },
  {
   "cell_type": "code",
   "execution_count": 35,
   "id": "f9404a55-9539-44eb-9d85-0f665c27b6d2",
   "metadata": {},
   "outputs": [
    {
     "name": "stdout",
     "output_type": "stream",
     "text": [
      "('Spark', 40): 1\n",
      "('Scala', 50): 1\n",
      "('Java', 20): 1\n",
      "('C++', 30): 1\n",
      "('Python', 50): 1\n",
      "('Cobol', 30): 1\n",
      "('Java', 90): 1\n",
      "('Java', 30): 1\n",
      "('Java', 50): 1\n"
     ]
    }
   ],
   "source": [
    "for i,j in data6.countByValue().items():\n",
    "    print(f\"{i}: {j}\")"
   ]
  },
  {
   "cell_type": "code",
   "execution_count": 27,
   "id": "46c61184-4638-4cbf-8491-0f350189c073",
   "metadata": {},
   "outputs": [],
   "source": [
    "data7 = sc.parallelize([\"Spark\", \"Scala\", \"Java\", \"Hadoop\", \"Spark\", \"Spark\", \"Scala\", \"Spark\", \"Scala\", \"Spark\", \"Scala\", \"Java\", \"Scala\"])"
   ]
  },
  {
   "cell_type": "code",
   "execution_count": 31,
   "id": "c03bbf31-d0f4-411c-9e89-e7409f6a3e54",
   "metadata": {},
   "outputs": [
    {
     "data": {
      "text/plain": [
       "defaultdict(int, {'Spark': 5, 'Scala': 5, 'Java': 2, 'Hadoop': 1})"
      ]
     },
     "execution_count": 31,
     "metadata": {},
     "output_type": "execute_result"
    }
   ],
   "source": [
    "data7.countByValue()"
   ]
  },
  {
   "cell_type": "code",
   "execution_count": 34,
   "id": "a2d8f31c-8060-42ac-a1e2-3b547e022eb6",
   "metadata": {},
   "outputs": [
    {
     "name": "stdout",
     "output_type": "stream",
     "text": [
      "Spark: 5\n",
      "Scala: 5\n",
      "Java: 2\n",
      "Hadoop: 1\n"
     ]
    }
   ],
   "source": [
    "for key, value in data7.countByValue().items():\n",
    "    print(f\"{key}: {value}\")"
   ]
  },
  {
   "cell_type": "code",
   "execution_count": 44,
   "id": "dfa63f28-d70e-4343-9212-9a0e0d7180e6",
   "metadata": {},
   "outputs": [],
   "source": [
    "file = sc.textFile(\"file:///C://Users/aksha/Pyspark/testData1.log\") "
   ]
  },
  {
   "cell_type": "code",
   "execution_count": 45,
   "id": "6f69b9c9-90bf-4917-8ec3-a3016d7cbf0c",
   "metadata": {},
   "outputs": [],
   "source": [
    "flatfile = file.flatMap(lambda x: x.split(\" \"))"
   ]
  },
  {
   "cell_type": "code",
   "execution_count": 46,
   "id": "22855d23-f57e-4a40-8c2f-1d20dfb92033",
   "metadata": {},
   "outputs": [],
   "source": [
    "mapfile = flatfile.map(lambda x: (x,1))"
   ]
  },
  {
   "cell_type": "code",
   "execution_count": 47,
   "id": "4044710b-a5b6-4a89-8c80-251ebeac7564",
   "metadata": {},
   "outputs": [],
   "source": [
    "redfile = mapfile.reduceByKey(lambda a,b: a + b)"
   ]
  },
  {
   "cell_type": "code",
   "execution_count": 48,
   "id": "3c7d1c4f-0ba3-42a5-a4a5-f5975e453718",
   "metadata": {},
   "outputs": [],
   "source": [
    "sortdata = redfile.sortBy(lambda x: x[0])"
   ]
  },
  {
   "cell_type": "code",
   "execution_count": 49,
   "id": "6e5d66fb-5873-4236-9af9-4720e54aea1b",
   "metadata": {},
   "outputs": [
    {
     "name": "stdout",
     "output_type": "stream",
     "text": [
      "be: 2\n",
      "demo: 3\n",
      "every: 1\n",
      "hadoop: 1\n",
      "have: 1\n",
      "holiday: 1\n",
      "is: 2\n",
      "not: 2\n",
      "on: 2\n",
      "sunday: 4\n",
      "there: 2\n",
      "today: 2\n",
      "we: 1\n",
      "will: 2\n"
     ]
    }
   ],
   "source": [
    "for word, count in sortdata.collect():\n",
    "    print(f\"{word}: {count}\")"
   ]
  },
  {
   "cell_type": "code",
   "execution_count": 50,
   "id": "aa6f4ebc-1cc4-46cd-8c24-740e7b2457e1",
   "metadata": {},
   "outputs": [],
   "source": [
    "wordcount = file.flatMap(lambda x: x.split()).map(lambda x: (x, 1)).reduceByKey(lambda a, b: a + b).sortBy(lambda x: x[0])\n"
   ]
  },
  {
   "cell_type": "code",
   "execution_count": 51,
   "id": "30cc3559-ca48-4109-a46e-36d386b6011d",
   "metadata": {},
   "outputs": [
    {
     "name": "stdout",
     "output_type": "stream",
     "text": [
      "be: 2\n",
      "demo: 3\n",
      "every: 1\n",
      "hadoop: 1\n",
      "have: 1\n",
      "holiday: 1\n",
      "is: 2\n",
      "not: 2\n",
      "on: 2\n",
      "sunday: 4\n",
      "there: 2\n",
      "today: 2\n",
      "we: 1\n",
      "will: 2\n"
     ]
    }
   ],
   "source": [
    "for word, count in wordcount.collect(): \n",
    "    print(f\"{word}: {count}\")\n"
   ]
  },
  {
   "cell_type": "code",
   "execution_count": null,
   "id": "35fbe886-4b42-4b85-bd25-303592b8e7f3",
   "metadata": {},
   "outputs": [],
   "source": []
  }
 ],
 "metadata": {
  "kernelspec": {
   "display_name": "PySpark (Python 3.10)",
   "language": "python",
   "name": "pyspark_env"
  },
  "language_info": {
   "codemirror_mode": {
    "name": "ipython",
    "version": 3
   },
   "file_extension": ".py",
   "mimetype": "text/x-python",
   "name": "python",
   "nbconvert_exporter": "python",
   "pygments_lexer": "ipython3",
   "version": "3.10.18"
  }
 },
 "nbformat": 4,
 "nbformat_minor": 5
}
