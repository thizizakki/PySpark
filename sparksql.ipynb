{
 "cells": [
  {
   "cell_type": "code",
   "execution_count": 1,
   "id": "f425d65f-7f37-47f4-a1dd-2d8a93f1ee65",
   "metadata": {},
   "outputs": [],
   "source": [
    "import findspark\n",
    "findspark.init()\n",
    "findspark.find()\n",
    "import pyspark"
   ]
  },
  {
   "cell_type": "code",
   "execution_count": 2,
   "id": "b4446e77-6d8d-4c06-b1c9-0e73e5d8f8d7",
   "metadata": {},
   "outputs": [],
   "source": [
    "from pyspark.sql import SparkSession"
   ]
  },
  {
   "cell_type": "code",
   "execution_count": 3,
   "id": "4d731ac5-d750-469a-a0f8-7451a7d85c3a",
   "metadata": {},
   "outputs": [],
   "source": [
    "spark = SparkSession.builder.appName(\"ScalaToPySpark\").getOrCreate()\n",
    "sc = spark.sparkContext"
   ]
  },
  {
   "cell_type": "code",
   "execution_count": 4,
   "id": "1ff7fe90-33d5-4e85-976c-2914f6afcd94",
   "metadata": {},
   "outputs": [],
   "source": [
    "data = sc.parallelize(range(1, 41))"
   ]
  },
  {
   "cell_type": "code",
   "execution_count": 5,
   "id": "cd61e00d-f84a-45a6-b1dc-82f30536839e",
   "metadata": {},
   "outputs": [],
   "source": [
    "newdata = data.map(lambda x: (x, x * x))"
   ]
  },
  {
   "cell_type": "code",
   "execution_count": 6,
   "id": "e1782966-1c7d-441d-8083-aa23e52ed7c6",
   "metadata": {},
   "outputs": [],
   "source": [
    "dfobj = newdata.toDF()"
   ]
  },
  {
   "cell_type": "code",
   "execution_count": 7,
   "id": "90f1f095-cb06-4dc3-87db-fd1b465be95f",
   "metadata": {},
   "outputs": [
    {
     "name": "stdout",
     "output_type": "stream",
     "text": [
      "[Row(_1=1, _2=1), Row(_1=2, _2=4), Row(_1=3, _2=9), Row(_1=4, _2=16), Row(_1=5, _2=25), Row(_1=6, _2=36), Row(_1=7, _2=49), Row(_1=8, _2=64), Row(_1=9, _2=81), Row(_1=10, _2=100), Row(_1=11, _2=121), Row(_1=12, _2=144), Row(_1=13, _2=169), Row(_1=14, _2=196), Row(_1=15, _2=225), Row(_1=16, _2=256), Row(_1=17, _2=289), Row(_1=18, _2=324), Row(_1=19, _2=361), Row(_1=20, _2=400), Row(_1=21, _2=441), Row(_1=22, _2=484), Row(_1=23, _2=529), Row(_1=24, _2=576), Row(_1=25, _2=625), Row(_1=26, _2=676), Row(_1=27, _2=729), Row(_1=28, _2=784), Row(_1=29, _2=841), Row(_1=30, _2=900), Row(_1=31, _2=961), Row(_1=32, _2=1024), Row(_1=33, _2=1089), Row(_1=34, _2=1156), Row(_1=35, _2=1225), Row(_1=36, _2=1296), Row(_1=37, _2=1369), Row(_1=38, _2=1444), Row(_1=39, _2=1521), Row(_1=40, _2=1600)]\n"
     ]
    }
   ],
   "source": [
    "print(dfobj.collect())"
   ]
  },
  {
   "cell_type": "code",
   "execution_count": 8,
   "id": "f143f925-3b53-4291-afc5-78bf213fb10b",
   "metadata": {},
   "outputs": [
    {
     "name": "stdout",
     "output_type": "stream",
     "text": [
      "+---+---+\n",
      "| _1| _2|\n",
      "+---+---+\n",
      "|  1|  1|\n",
      "|  2|  4|\n",
      "|  3|  9|\n",
      "|  4| 16|\n",
      "|  5| 25|\n",
      "|  6| 36|\n",
      "|  7| 49|\n",
      "|  8| 64|\n",
      "|  9| 81|\n",
      "| 10|100|\n",
      "| 11|121|\n",
      "| 12|144|\n",
      "| 13|169|\n",
      "| 14|196|\n",
      "| 15|225|\n",
      "| 16|256|\n",
      "| 17|289|\n",
      "| 18|324|\n",
      "| 19|361|\n",
      "| 20|400|\n",
      "+---+---+\n",
      "only showing top 20 rows\n",
      "\n"
     ]
    }
   ],
   "source": [
    "dfobj.show()"
   ]
  },
  {
   "cell_type": "code",
   "execution_count": 9,
   "id": "a58e02bb-1408-4ead-b3d8-a564d1c7c8aa",
   "metadata": {},
   "outputs": [
    {
     "data": {
      "text/plain": [
       "40"
      ]
     },
     "execution_count": 9,
     "metadata": {},
     "output_type": "execute_result"
    }
   ],
   "source": [
    "dfobj.count()"
   ]
  },
  {
   "cell_type": "code",
   "execution_count": 10,
   "id": "ae5d8918-8e65-466c-abca-b8b61c3f8bfc",
   "metadata": {
    "scrolled": true
   },
   "outputs": [
    {
     "name": "stdout",
     "output_type": "stream",
     "text": [
      "+---+----+\n",
      "| _1|  _2|\n",
      "+---+----+\n",
      "|  1|   1|\n",
      "|  2|   4|\n",
      "|  3|   9|\n",
      "|  4|  16|\n",
      "|  5|  25|\n",
      "|  6|  36|\n",
      "|  7|  49|\n",
      "|  8|  64|\n",
      "|  9|  81|\n",
      "| 10| 100|\n",
      "| 11| 121|\n",
      "| 12| 144|\n",
      "| 13| 169|\n",
      "| 14| 196|\n",
      "| 15| 225|\n",
      "| 16| 256|\n",
      "| 17| 289|\n",
      "| 18| 324|\n",
      "| 19| 361|\n",
      "| 20| 400|\n",
      "| 21| 441|\n",
      "| 22| 484|\n",
      "| 23| 529|\n",
      "| 24| 576|\n",
      "| 25| 625|\n",
      "| 26| 676|\n",
      "| 27| 729|\n",
      "| 28| 784|\n",
      "| 29| 841|\n",
      "| 30| 900|\n",
      "| 31| 961|\n",
      "| 32|1024|\n",
      "| 33|1089|\n",
      "| 34|1156|\n",
      "| 35|1225|\n",
      "| 36|1296|\n",
      "| 37|1369|\n",
      "| 38|1444|\n",
      "| 39|1521|\n",
      "| 40|1600|\n",
      "+---+----+\n",
      "\n"
     ]
    }
   ],
   "source": [
    "dfobj.show(40)"
   ]
  },
  {
   "cell_type": "code",
   "execution_count": 11,
   "id": "571418d7-0b2d-41c5-a446-190e6e4b742f",
   "metadata": {},
   "outputs": [
    {
     "data": {
      "text/plain": [
       "DataFrame[namespace: string, tableName: string, isTemporary: boolean]"
      ]
     },
     "execution_count": 11,
     "metadata": {},
     "output_type": "execute_result"
    }
   ],
   "source": [
    "spark.sql(\"show tables\")"
   ]
  },
  {
   "cell_type": "code",
   "execution_count": 12,
   "id": "677f8c50-b5a2-40bb-9b09-61a1900558d8",
   "metadata": {},
   "outputs": [
    {
     "name": "stdout",
     "output_type": "stream",
     "text": [
      "+---------+---------+-----------+\n",
      "|namespace|tableName|isTemporary|\n",
      "+---------+---------+-----------+\n",
      "+---------+---------+-----------+\n",
      "\n"
     ]
    }
   ],
   "source": [
    "spark.sql(\"show tables\").show()"
   ]
  },
  {
   "cell_type": "code",
   "execution_count": 13,
   "id": "185f2f18-05c9-4561-9d17-a6fe8224a2c7",
   "metadata": {},
   "outputs": [
    {
     "name": "stderr",
     "output_type": "stream",
     "text": [
      "C:\\spark-3.5.6-bin-hadoop3\\python\\pyspark\\sql\\dataframe.py:329: FutureWarning: Deprecated in 2.0, use createOrReplaceTempView instead.\n",
      "  warnings.warn(\"Deprecated in 2.0, use createOrReplaceTempView instead.\", FutureWarning)\n"
     ]
    }
   ],
   "source": [
    "dfobj.registerTempTable(\"numtable\") #This registers your DataFrame as a temporary SQL table named \"numtable\", allowing you to run SQL queries on it."
   ]
  },
  {
   "cell_type": "code",
   "execution_count": 14,
   "id": "aaa4f089-69f2-481e-89cc-854022997bbc",
   "metadata": {},
   "outputs": [
    {
     "name": "stdout",
     "output_type": "stream",
     "text": [
      "+---------+---------+-----------+\n",
      "|namespace|tableName|isTemporary|\n",
      "+---------+---------+-----------+\n",
      "|         | numtable|       true|\n",
      "+---------+---------+-----------+\n",
      "\n"
     ]
    }
   ],
   "source": [
    "spark.sql(\"show tables\").show()"
   ]
  },
  {
   "cell_type": "code",
   "execution_count": 15,
   "id": "5d8d7a53-dcec-449a-88b8-b88c22fc1181",
   "metadata": {
    "scrolled": true
   },
   "outputs": [
    {
     "name": "stdout",
     "output_type": "stream",
     "text": [
      "+---+---+\n",
      "| _1| _2|\n",
      "+---+---+\n",
      "|  1|  1|\n",
      "|  2|  4|\n",
      "|  3|  9|\n",
      "|  4| 16|\n",
      "|  5| 25|\n",
      "|  6| 36|\n",
      "|  7| 49|\n",
      "|  8| 64|\n",
      "|  9| 81|\n",
      "| 10|100|\n",
      "| 11|121|\n",
      "| 12|144|\n",
      "| 13|169|\n",
      "| 14|196|\n",
      "| 15|225|\n",
      "| 16|256|\n",
      "| 17|289|\n",
      "| 18|324|\n",
      "| 19|361|\n",
      "| 20|400|\n",
      "+---+---+\n",
      "only showing top 20 rows\n",
      "\n"
     ]
    }
   ],
   "source": [
    "spark.sql(\"SELECT * FROM numtable\").show()"
   ]
  },
  {
   "cell_type": "code",
   "execution_count": 16,
   "id": "0c506f9c-4034-40e3-8342-f5fe279ca71d",
   "metadata": {
    "scrolled": true
   },
   "outputs": [
    {
     "name": "stdout",
     "output_type": "stream",
     "text": [
      "+---+---+\n",
      "| _1| _2|\n",
      "+---+---+\n",
      "| 11|121|\n",
      "| 12|144|\n",
      "| 13|169|\n",
      "| 14|196|\n",
      "| 15|225|\n",
      "| 16|256|\n",
      "| 17|289|\n",
      "| 18|324|\n",
      "| 19|361|\n",
      "| 20|400|\n",
      "| 21|441|\n",
      "| 22|484|\n",
      "| 23|529|\n",
      "| 24|576|\n",
      "| 25|625|\n",
      "| 26|676|\n",
      "| 27|729|\n",
      "| 28|784|\n",
      "| 29|841|\n",
      "| 30|900|\n",
      "| 31|961|\n",
      "+---+---+\n",
      "\n"
     ]
    }
   ],
   "source": [
    "spark.sql(\"SELECT * FROM numtable where _1 > 10 and _2 < 1000\").show(25)"
   ]
  },
  {
   "cell_type": "code",
   "execution_count": 17,
   "id": "80179c16-316a-4797-81cd-002c43653ceb",
   "metadata": {},
   "outputs": [],
   "source": [
    "newdata1 = data.map(lambda x: (x, (x + 100)))"
   ]
  },
  {
   "cell_type": "code",
   "execution_count": 18,
   "id": "a02a4070-fc96-4069-aa38-f9ed78b61ca8",
   "metadata": {},
   "outputs": [],
   "source": [
    "df = newdata1.toDF([\"number\",\"IncrNum\"])"
   ]
  },
  {
   "cell_type": "code",
   "execution_count": 19,
   "id": "b7242a82-f80a-4ee6-a70e-589e9aee26e7",
   "metadata": {},
   "outputs": [],
   "source": [
    "df.registerTempTable(\"newNumTab\")"
   ]
  },
  {
   "cell_type": "code",
   "execution_count": 20,
   "id": "07d3c5c0-ebb3-4bdc-ae42-7fcb3cda7f5d",
   "metadata": {},
   "outputs": [
    {
     "name": "stdout",
     "output_type": "stream",
     "text": [
      "+---------+---------+-----------+\n",
      "|namespace|tableName|isTemporary|\n",
      "+---------+---------+-----------+\n",
      "|         |newnumtab|       true|\n",
      "|         | numtable|       true|\n",
      "+---------+---------+-----------+\n",
      "\n"
     ]
    }
   ],
   "source": [
    "spark.sql(\"show tables\").show()"
   ]
  },
  {
   "cell_type": "code",
   "execution_count": 21,
   "id": "d623f20e-5a02-4e4e-98e8-4c610609a158",
   "metadata": {},
   "outputs": [
    {
     "name": "stdout",
     "output_type": "stream",
     "text": [
      "+------+-------+\n",
      "|number|IncrNum|\n",
      "+------+-------+\n",
      "|     1|    101|\n",
      "|     2|    102|\n",
      "|     3|    103|\n",
      "|     4|    104|\n",
      "|     5|    105|\n",
      "|     6|    106|\n",
      "|     7|    107|\n",
      "|     8|    108|\n",
      "|     9|    109|\n",
      "|    10|    110|\n",
      "|    11|    111|\n",
      "|    12|    112|\n",
      "|    13|    113|\n",
      "|    14|    114|\n",
      "|    15|    115|\n",
      "|    16|    116|\n",
      "|    17|    117|\n",
      "|    18|    118|\n",
      "|    19|    119|\n",
      "|    20|    120|\n",
      "+------+-------+\n",
      "only showing top 20 rows\n",
      "\n"
     ]
    }
   ],
   "source": [
    "df.show()"
   ]
  },
  {
   "cell_type": "code",
   "execution_count": 22,
   "id": "afb374e6-8067-48f4-b645-2e89d01dd108",
   "metadata": {},
   "outputs": [
    {
     "name": "stdout",
     "output_type": "stream",
     "text": [
      "+------+-------+\n",
      "|number|IncrNum|\n",
      "+------+-------+\n",
      "|    22|    122|\n",
      "|    23|    123|\n",
      "|    24|    124|\n",
      "|    25|    125|\n",
      "|    26|    126|\n",
      "|    27|    127|\n",
      "|    28|    128|\n",
      "|    29|    129|\n",
      "|    30|    130|\n",
      "|    31|    131|\n",
      "|    32|    132|\n",
      "|    33|    133|\n",
      "|    34|    134|\n",
      "|    35|    135|\n",
      "|    36|    136|\n",
      "|    37|    137|\n",
      "|    38|    138|\n",
      "|    39|    139|\n",
      "|    40|    140|\n",
      "+------+-------+\n",
      "\n"
     ]
    }
   ],
   "source": [
    "spark.sql(\"select * from newnumtab where IncrNum > 121\").show()"
   ]
  },
  {
   "cell_type": "code",
   "execution_count": 23,
   "id": "677696aa-c430-4d43-ad4b-5740d0c01fae",
   "metadata": {},
   "outputs": [],
   "source": [
    "newdata2 = data.map(lambda x: (x, x * x, x * x * x))"
   ]
  },
  {
   "cell_type": "code",
   "execution_count": 24,
   "id": "3715db5c-d152-4776-8e71-089223bff378",
   "metadata": {},
   "outputs": [],
   "source": [
    "df1 = newdata2.toDF([\"num\",\"square\",\"cube\"])"
   ]
  },
  {
   "cell_type": "code",
   "execution_count": 25,
   "id": "1d833a28-22e8-4565-8a68-4ee87e5a5dae",
   "metadata": {},
   "outputs": [
    {
     "name": "stdout",
     "output_type": "stream",
     "text": [
      "+---+------+----+\n",
      "|num|square|cube|\n",
      "+---+------+----+\n",
      "|  1|     1|   1|\n",
      "|  2|     4|   8|\n",
      "|  3|     9|  27|\n",
      "|  4|    16|  64|\n",
      "|  5|    25| 125|\n",
      "|  6|    36| 216|\n",
      "|  7|    49| 343|\n",
      "|  8|    64| 512|\n",
      "|  9|    81| 729|\n",
      "| 10|   100|1000|\n",
      "| 11|   121|1331|\n",
      "| 12|   144|1728|\n",
      "| 13|   169|2197|\n",
      "| 14|   196|2744|\n",
      "| 15|   225|3375|\n",
      "| 16|   256|4096|\n",
      "| 17|   289|4913|\n",
      "| 18|   324|5832|\n",
      "| 19|   361|6859|\n",
      "| 20|   400|8000|\n",
      "+---+------+----+\n",
      "only showing top 20 rows\n",
      "\n"
     ]
    }
   ],
   "source": [
    "df1.show()"
   ]
  },
  {
   "cell_type": "code",
   "execution_count": 26,
   "id": "ec493e06-2b00-4700-a8a0-845834b8233c",
   "metadata": {},
   "outputs": [],
   "source": [
    "df1.registerTempTable(\"newNumTab1\")"
   ]
  },
  {
   "cell_type": "code",
   "execution_count": 27,
   "id": "be9c9d3d-39ed-4a2b-9fc8-7e6e26156251",
   "metadata": {},
   "outputs": [
    {
     "name": "stdout",
     "output_type": "stream",
     "text": [
      "+---------+----------+-----------+\n",
      "|namespace| tableName|isTemporary|\n",
      "+---------+----------+-----------+\n",
      "|         | newnumtab|       true|\n",
      "|         |newnumtab1|       true|\n",
      "|         |  numtable|       true|\n",
      "+---------+----------+-----------+\n",
      "\n"
     ]
    }
   ],
   "source": [
    "spark.sql(\"show tables\").show()"
   ]
  },
  {
   "cell_type": "code",
   "execution_count": 28,
   "id": "8b6ac6cd-85fe-44fc-a313-83e8524cc54c",
   "metadata": {},
   "outputs": [
    {
     "name": "stdout",
     "output_type": "stream",
     "text": [
      "+---+------+----+\n",
      "|num|square|cube|\n",
      "+---+------+----+\n",
      "| 11|   121|1331|\n",
      "| 12|   144|1728|\n",
      "| 13|   169|2197|\n",
      "| 14|   196|2744|\n",
      "| 15|   225|3375|\n",
      "| 16|   256|4096|\n",
      "| 17|   289|4913|\n",
      "| 18|   324|5832|\n",
      "| 19|   361|6859|\n",
      "| 20|   400|8000|\n",
      "+---+------+----+\n",
      "\n"
     ]
    }
   ],
   "source": [
    "spark.sql(\"select * from newnumtab1 where num > 10 and cube < 9000\").show()"
   ]
  },
  {
   "cell_type": "code",
   "execution_count": null,
   "id": "6fb327a4-6a20-4929-972f-195712380ee0",
   "metadata": {},
   "outputs": [],
   "source": []
  }
 ],
 "metadata": {
  "kernelspec": {
   "display_name": "Python 3.11 (PySpark)",
   "language": "python",
   "name": "python311"
  },
  "language_info": {
   "codemirror_mode": {
    "name": "ipython",
    "version": 3
   },
   "file_extension": ".py",
   "mimetype": "text/x-python",
   "name": "python",
   "nbconvert_exporter": "python",
   "pygments_lexer": "ipython3",
   "version": "3.11.0"
  }
 },
 "nbformat": 4,
 "nbformat_minor": 5
}
